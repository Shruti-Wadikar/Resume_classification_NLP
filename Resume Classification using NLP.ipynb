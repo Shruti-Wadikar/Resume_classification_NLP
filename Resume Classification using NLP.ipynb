{
 "cells": [
  {
   "cell_type": "code",
   "execution_count": null,
   "metadata": {
    "colab": {
     "base_uri": "https://localhost:8080/"
    },
    "id": "ebjivaOyj0x8",
    "outputId": "4d17a454-8aea-4cb2-cfee-e4d532788364"
   },
   "outputs": [
    {
     "name": "stdout",
     "output_type": "stream",
     "text": [
      "Looking in indexes: https://pypi.org/simple, https://us-python.pkg.dev/colab-wheels/public/simple/\n",
      "Collecting python-docx\n",
      "  Downloading python-docx-0.8.11.tar.gz (5.6 MB)\n",
      "\u001b[K     |████████████████████████████████| 5.6 MB 32.4 MB/s \n",
      "\u001b[?25hRequirement already satisfied: lxml>=2.3.2 in /usr/local/lib/python3.7/dist-packages (from python-docx) (4.9.1)\n",
      "Building wheels for collected packages: python-docx\n",
      "  Building wheel for python-docx (setup.py) ... \u001b[?25l\u001b[?25hdone\n",
      "  Created wheel for python-docx: filename=python_docx-0.8.11-py3-none-any.whl size=184507 sha256=7b0411f6b2c8b1ba1af0ad9d65c5afaf42a12e1352e94a0cf84734b914f672e8\n",
      "  Stored in directory: /root/.cache/pip/wheels/f6/6f/b9/d798122a8b55b74ad30b5f52b01482169b445fbb84a11797a6\n",
      "Successfully built python-docx\n",
      "Installing collected packages: python-docx\n",
      "Successfully installed python-docx-0.8.11\n",
      "Looking in indexes: https://pypi.org/simple, https://us-python.pkg.dev/colab-wheels/public/simple/\n",
      "Collecting docx\n",
      "  Downloading docx-0.2.4.tar.gz (54 kB)\n",
      "\u001b[K     |████████████████████████████████| 54 kB 3.8 MB/s \n",
      "\u001b[?25hRequirement already satisfied: lxml in /usr/local/lib/python3.7/dist-packages (from docx) (4.9.1)\n",
      "Requirement already satisfied: Pillow>=2.0 in /usr/local/lib/python3.7/dist-packages (from docx) (7.1.2)\n",
      "Building wheels for collected packages: docx\n",
      "  Building wheel for docx (setup.py) ... \u001b[?25l\u001b[?25hdone\n",
      "  Created wheel for docx: filename=docx-0.2.4-py3-none-any.whl size=53924 sha256=a9a7676f40c7d8517cd38d26e3293c12a4cdef756c9c9c804c155105e808d1e5\n",
      "  Stored in directory: /root/.cache/pip/wheels/dc/ac/45/846e21706415c92fc6e0964e343be1eb31cfc63e149dee5fbe\n",
      "Successfully built docx\n",
      "Installing collected packages: docx\n",
      "Successfully installed docx-0.2.4\n",
      "Looking in indexes: https://pypi.org/simple, https://us-python.pkg.dev/colab-wheels/public/simple/\n",
      "Collecting pyresparser\n",
      "  Downloading pyresparser-1.0.6-py3-none-any.whl (4.2 MB)\n",
      "\u001b[K     |████████████████████████████████| 4.2 MB 24.7 MB/s \n",
      "\u001b[?25hCollecting pdfminer.six>=20181108\n",
      "  Downloading pdfminer.six-20220524-py3-none-any.whl (5.6 MB)\n",
      "\u001b[K     |████████████████████████████████| 5.6 MB 74.1 MB/s \n",
      "\u001b[?25hRequirement already satisfied: six>=1.12.0 in /usr/local/lib/python3.7/dist-packages (from pyresparser) (1.15.0)\n",
      "Collecting urllib3>=1.25.3\n",
      "  Downloading urllib3-1.26.12-py2.py3-none-any.whl (140 kB)\n",
      "\u001b[K     |████████████████████████████████| 140 kB 92.4 MB/s \n",
      "\u001b[?25hRequirement already satisfied: attrs>=19.1.0 in /usr/local/lib/python3.7/dist-packages (from pyresparser) (22.1.0)\n",
      "Requirement already satisfied: pyrsistent>=0.15.2 in /usr/local/lib/python3.7/dist-packages (from pyresparser) (0.18.1)\n",
      "Collecting pycryptodome>=3.8.2\n",
      "  Downloading pycryptodome-3.15.0-cp35-abi3-manylinux2010_x86_64.whl (2.3 MB)\n",
      "\u001b[K     |████████████████████████████████| 2.3 MB 87.3 MB/s \n",
      "\u001b[?25hRequirement already satisfied: python-dateutil>=2.8.0 in /usr/local/lib/python3.7/dist-packages (from pyresparser) (2.8.2)\n",
      "Requirement already satisfied: blis>=0.2.4 in /usr/local/lib/python3.7/dist-packages (from pyresparser) (0.7.9)\n",
      "Requirement already satisfied: nltk>=3.4.3 in /usr/local/lib/python3.7/dist-packages (from pyresparser) (3.7)\n",
      "Requirement already satisfied: idna>=2.8 in /usr/local/lib/python3.7/dist-packages (from pyresparser) (2.10)\n",
      "Requirement already satisfied: srsly>=0.0.7 in /usr/local/lib/python3.7/dist-packages (from pyresparser) (2.4.5)\n",
      "Requirement already satisfied: requests>=2.22.0 in /usr/local/lib/python3.7/dist-packages (from pyresparser) (2.23.0)\n",
      "Requirement already satisfied: spacy>=2.1.4 in /usr/local/lib/python3.7/dist-packages (from pyresparser) (3.4.2)\n",
      "Requirement already satisfied: cymem>=2.0.2 in /usr/local/lib/python3.7/dist-packages (from pyresparser) (2.0.7)\n",
      "Requirement already satisfied: pandas>=0.24.2 in /usr/local/lib/python3.7/dist-packages (from pyresparser) (1.3.5)\n",
      "Requirement already satisfied: chardet>=3.0.4 in /usr/local/lib/python3.7/dist-packages (from pyresparser) (3.0.4)\n",
      "Requirement already satisfied: certifi>=2019.6.16 in /usr/local/lib/python3.7/dist-packages (from pyresparser) (2022.9.24)\n",
      "Requirement already satisfied: numpy>=1.16.4 in /usr/local/lib/python3.7/dist-packages (from pyresparser) (1.21.6)\n",
      "Requirement already satisfied: preshed>=2.0.1 in /usr/local/lib/python3.7/dist-packages (from pyresparser) (3.0.8)\n",
      "Requirement already satisfied: jsonschema>=3.0.1 in /usr/local/lib/python3.7/dist-packages (from pyresparser) (4.3.3)\n",
      "Requirement already satisfied: thinc>=7.0.4 in /usr/local/lib/python3.7/dist-packages (from pyresparser) (8.1.5)\n",
      "Collecting docx2txt>=0.7\n",
      "  Downloading docx2txt-0.8.tar.gz (2.8 kB)\n",
      "Requirement already satisfied: tqdm>=4.32.2 in /usr/local/lib/python3.7/dist-packages (from pyresparser) (4.64.1)\n",
      "Requirement already satisfied: wasabi>=0.2.2 in /usr/local/lib/python3.7/dist-packages (from pyresparser) (0.10.1)\n",
      "Requirement already satisfied: sortedcontainers>=2.1.0 in /usr/local/lib/python3.7/dist-packages (from pyresparser) (2.4.0)\n",
      "Requirement already satisfied: pytz>=2019.1 in /usr/local/lib/python3.7/dist-packages (from pyresparser) (2022.5)\n",
      "Requirement already satisfied: importlib-resources>=1.4.0 in /usr/local/lib/python3.7/dist-packages (from jsonschema>=3.0.1->pyresparser) (5.10.0)\n",
      "Requirement already satisfied: typing-extensions in /usr/local/lib/python3.7/dist-packages (from jsonschema>=3.0.1->pyresparser) (4.1.1)\n",
      "Requirement already satisfied: importlib-metadata in /usr/local/lib/python3.7/dist-packages (from jsonschema>=3.0.1->pyresparser) (4.13.0)\n",
      "Requirement already satisfied: zipp>=3.1.0 in /usr/local/lib/python3.7/dist-packages (from importlib-resources>=1.4.0->jsonschema>=3.0.1->pyresparser) (3.9.0)\n",
      "Requirement already satisfied: click in /usr/local/lib/python3.7/dist-packages (from nltk>=3.4.3->pyresparser) (7.1.2)\n",
      "Requirement already satisfied: regex>=2021.8.3 in /usr/local/lib/python3.7/dist-packages (from nltk>=3.4.3->pyresparser) (2022.6.2)\n",
      "Requirement already satisfied: joblib in /usr/local/lib/python3.7/dist-packages (from nltk>=3.4.3->pyresparser) (1.2.0)\n",
      "Collecting cryptography>=36.0.0\n",
      "  Downloading cryptography-38.0.1-cp36-abi3-manylinux_2_24_x86_64.whl (4.0 MB)\n",
      "\u001b[K     |████████████████████████████████| 4.0 MB 57.5 MB/s \n",
      "\u001b[?25hRequirement already satisfied: charset-normalizer>=2.0.0 in /usr/local/lib/python3.7/dist-packages (from pdfminer.six>=20181108->pyresparser) (2.1.1)\n",
      "Requirement already satisfied: cffi>=1.12 in /usr/local/lib/python3.7/dist-packages (from cryptography>=36.0.0->pdfminer.six>=20181108->pyresparser) (1.15.1)\n",
      "Requirement already satisfied: pycparser in /usr/local/lib/python3.7/dist-packages (from cffi>=1.12->cryptography>=36.0.0->pdfminer.six>=20181108->pyresparser) (2.21)\n",
      "Requirement already satisfied: murmurhash<1.1.0,>=0.28.0 in /usr/local/lib/python3.7/dist-packages (from preshed>=2.0.1->pyresparser) (1.0.9)\n",
      "Collecting urllib3>=1.25.3\n",
      "  Downloading urllib3-1.25.11-py2.py3-none-any.whl (127 kB)\n",
      "\u001b[K     |████████████████████████████████| 127 kB 101.8 MB/s \n",
      "\u001b[?25hRequirement already satisfied: spacy-loggers<2.0.0,>=1.0.0 in /usr/local/lib/python3.7/dist-packages (from spacy>=2.1.4->pyresparser) (1.0.3)\n",
      "Requirement already satisfied: packaging>=20.0 in /usr/local/lib/python3.7/dist-packages (from spacy>=2.1.4->pyresparser) (21.3)\n",
      "Requirement already satisfied: pydantic!=1.8,!=1.8.1,<1.11.0,>=1.7.4 in /usr/local/lib/python3.7/dist-packages (from spacy>=2.1.4->pyresparser) (1.10.2)\n",
      "Requirement already satisfied: spacy-legacy<3.1.0,>=3.0.10 in /usr/local/lib/python3.7/dist-packages (from spacy>=2.1.4->pyresparser) (3.0.10)\n",
      "Requirement already satisfied: langcodes<4.0.0,>=3.2.0 in /usr/local/lib/python3.7/dist-packages (from spacy>=2.1.4->pyresparser) (3.3.0)\n",
      "Requirement already satisfied: typer<0.5.0,>=0.3.0 in /usr/local/lib/python3.7/dist-packages (from spacy>=2.1.4->pyresparser) (0.4.2)\n",
      "Requirement already satisfied: setuptools in /usr/local/lib/python3.7/dist-packages (from spacy>=2.1.4->pyresparser) (57.4.0)\n",
      "Requirement already satisfied: jinja2 in /usr/local/lib/python3.7/dist-packages (from spacy>=2.1.4->pyresparser) (2.11.3)\n",
      "Requirement already satisfied: catalogue<2.1.0,>=2.0.6 in /usr/local/lib/python3.7/dist-packages (from spacy>=2.1.4->pyresparser) (2.0.8)\n",
      "Requirement already satisfied: pathy>=0.3.5 in /usr/local/lib/python3.7/dist-packages (from spacy>=2.1.4->pyresparser) (0.6.2)\n",
      "Requirement already satisfied: pyparsing!=3.0.5,>=2.0.2 in /usr/local/lib/python3.7/dist-packages (from packaging>=20.0->spacy>=2.1.4->pyresparser) (3.0.9)\n",
      "Requirement already satisfied: smart-open<6.0.0,>=5.2.1 in /usr/local/lib/python3.7/dist-packages (from pathy>=0.3.5->spacy>=2.1.4->pyresparser) (5.2.1)\n",
      "Requirement already satisfied: confection<1.0.0,>=0.0.1 in /usr/local/lib/python3.7/dist-packages (from thinc>=7.0.4->pyresparser) (0.0.3)\n",
      "Requirement already satisfied: MarkupSafe>=0.23 in /usr/local/lib/python3.7/dist-packages (from jinja2->spacy>=2.1.4->pyresparser) (2.0.1)\n",
      "Building wheels for collected packages: docx2txt\n",
      "  Building wheel for docx2txt (setup.py) ... \u001b[?25l\u001b[?25hdone\n",
      "  Created wheel for docx2txt: filename=docx2txt-0.8-py3-none-any.whl size=3980 sha256=9ce75cb5650e367632b4fdd236b14fb8d158d102eb4e14f938ed11cd7ab6d0a0\n",
      "  Stored in directory: /root/.cache/pip/wheels/b7/20/b2/473e3aea9a0c0d3e7b2f7bd81d06d0794fec12752733d1f3a8\n",
      "Successfully built docx2txt\n",
      "Installing collected packages: urllib3, cryptography, pycryptodome, pdfminer.six, docx2txt, pyresparser\n",
      "  Attempting uninstall: urllib3\n",
      "    Found existing installation: urllib3 1.24.3\n",
      "    Uninstalling urllib3-1.24.3:\n",
      "      Successfully uninstalled urllib3-1.24.3\n",
      "Successfully installed cryptography-38.0.1 docx2txt-0.8 pdfminer.six-20220524 pycryptodome-3.15.0 pyresparser-1.0.6 urllib3-1.25.11\n",
      "Looking in indexes: https://pypi.org/simple, https://us-python.pkg.dev/colab-wheels/public/simple/\n",
      "Collecting PyPDF2\n",
      "  Downloading PyPDF2-2.11.1-py3-none-any.whl (220 kB)\n",
      "\u001b[K     |████████████████████████████████| 220 kB 28.7 MB/s \n",
      "\u001b[?25hRequirement already satisfied: typing-extensions>=3.10.0.0 in /usr/local/lib/python3.7/dist-packages (from PyPDF2) (4.1.1)\n",
      "Installing collected packages: PyPDF2\n",
      "Successfully installed PyPDF2-2.11.1\n",
      "Looking in indexes: https://pypi.org/simple, https://us-python.pkg.dev/colab-wheels/public/simple/\n",
      "Collecting tika\n",
      "  Downloading tika-1.24.tar.gz (28 kB)\n",
      "Requirement already satisfied: setuptools in /usr/local/lib/python3.7/dist-packages (from tika) (57.4.0)\n",
      "Requirement already satisfied: requests in /usr/local/lib/python3.7/dist-packages (from tika) (2.23.0)\n",
      "Requirement already satisfied: chardet<4,>=3.0.2 in /usr/local/lib/python3.7/dist-packages (from requests->tika) (3.0.4)\n",
      "Requirement already satisfied: certifi>=2017.4.17 in /usr/local/lib/python3.7/dist-packages (from requests->tika) (2022.9.24)\n",
      "Requirement already satisfied: urllib3!=1.25.0,!=1.25.1,<1.26,>=1.21.1 in /usr/local/lib/python3.7/dist-packages (from requests->tika) (1.25.11)\n",
      "Requirement already satisfied: idna<3,>=2.5 in /usr/local/lib/python3.7/dist-packages (from requests->tika) (2.10)\n",
      "Building wheels for collected packages: tika\n",
      "  Building wheel for tika (setup.py) ... \u001b[?25l\u001b[?25hdone\n",
      "  Created wheel for tika: filename=tika-1.24-py3-none-any.whl size=32893 sha256=7b2f44aa690bc43df3158868591c130632249f6fa9a65483ce3b825f42ac5bcb\n",
      "  Stored in directory: /root/.cache/pip/wheels/ec/2b/38/58ff05467a742e32f67f5d0de048fa046e764e2fbb25ac93f3\n",
      "Successfully built tika\n",
      "Installing collected packages: tika\n",
      "Successfully installed tika-1.24\n"
     ]
    }
   ],
   "source": [
    "!pip install python-docx\n",
    "!pip install docx\n",
    "!pip install pyresparser\n",
    "!pip install PyPDF2\n",
    "!pip install tika"
   ]
  },
  {
   "cell_type": "code",
   "execution_count": null,
   "metadata": {
    "id": "qCaovbeKk8a7"
   },
   "outputs": [],
   "source": [
    "from docx import Document\n",
    "import os\n",
    "import pandas as pd\n",
    "import PyPDF2\n",
    "from tika import parser"
   ]
  },
  {
   "cell_type": "markdown",
   "metadata": {
    "id": "I_LoEX5NlXSr"
   },
   "source": [
    "\n",
    "**creating a list of keywords to compare with skills in resume**"
   ]
  },
  {
   "cell_type": "code",
   "execution_count": null,
   "metadata": {
    "colab": {
     "base_uri": "https://localhost:8080/"
    },
    "id": "w8PJ9onWlTWx",
    "outputId": "9682af56-f58b-49b6-9f25-da711cecdfa7"
   },
   "outputs": [
    {
     "name": "stderr",
     "output_type": "stream",
     "text": [
      "[nltk_data] Downloading package punkt to /root/nltk_data...\n",
      "[nltk_data]   Unzipping tokenizers/punkt.zip.\n",
      "[nltk_data] Downloading package stopwords to /root/nltk_data...\n",
      "[nltk_data]   Unzipping corpora/stopwords.zip.\n"
     ]
    },
    {
     "data": {
      "text/plain": [
       "True"
      ]
     },
     "execution_count": 3,
     "metadata": {},
     "output_type": "execute_result"
    }
   ],
   "source": [
    "from nltk.tokenize import word_tokenize\n",
    "import gensim\n",
    "from gensim.models.phrases import Phraser, Phrases\n",
    "import nltk\n",
    "nltk.download('punkt')\n",
    "nltk.download('stopwords')"
   ]
  },
  {
   "cell_type": "markdown",
   "metadata": {
    "id": "IUKSawavmBLp"
   },
   "source": [
    "**TO READ DOCX FILES**"
   ]
  },
  {
   "cell_type": "code",
   "execution_count": null,
   "metadata": {
    "id": "L6hWKfdrl3du"
   },
   "outputs": [],
   "source": [
    "def docx(path):\n",
    "  doc = Document(path)\n",
    "  indx=0\n",
    "  dd=[]\n",
    "  for para in doc.paragraphs:\n",
    "    indx+=1\n",
    "    if(len(para.text)>0):\n",
    "      dd.append(para.text)\n",
    "    else:\n",
    "      continue\n",
    "  return dd"
   ]
  },
  {
   "cell_type": "markdown",
   "metadata": {
    "id": "c2yiV6iSmOaH"
   },
   "source": [
    "**TO READ PDF FILES**"
   ]
  },
  {
   "cell_type": "code",
   "execution_count": null,
   "metadata": {
    "id": "giYzUHQpmNgr"
   },
   "outputs": [],
   "source": [
    "def pdf(path):\n",
    "  pdfFileObject = open(path, 'rb')\n",
    "  pdfReader = PyPDF2.PdfFileReader(pdfFileObject)\n",
    "  pagefull=[]\n",
    "  for i in range(pdfReader.numPages):\n",
    "    pageObjfull=pdfReader.getPage(i)\n",
    "    pagefull.append(pageObjfull.extractText())\n",
    "    pagefull=' '.join(pagefull)\n",
    "    pagefull=pagefull.split()\n",
    "  return pagefull"
   ]
  },
  {
   "cell_type": "markdown",
   "metadata": {
    "id": "AboBk5c8mc5D"
   },
   "source": [
    "**TO READ DOC FILES**"
   ]
  },
  {
   "cell_type": "code",
   "execution_count": null,
   "metadata": {
    "id": "urmy5h9gmbNq"
   },
   "outputs": [],
   "source": [
    "def doc(path):\n",
    "  parsed = parser.from_file(path)\n",
    "  ansdoc=parsed[\"content\"]\n",
    "  ansdoc=ansdoc.split()\n",
    "  return ansdoc"
   ]
  },
  {
   "cell_type": "markdown",
   "metadata": {
    "id": "vADH_NbJmk8C"
   },
   "source": [
    "**EXTRACTING FOLDER AND SEPARTING DOCX,PDF AND DOC PATHS**"
   ]
  },
  {
   "cell_type": "code",
   "execution_count": null,
   "metadata": {
    "id": "x4KCMm3NmhOK"
   },
   "outputs": [],
   "source": [
    "import pandas as pd\n",
    "import os\n",
    "path='/content'\n",
    "ndocx=[]\n",
    "ndoc=[]\n",
    "npdf=[]\n",
    "n=[]\n",
    "newpathdocx=[]\n",
    "newpathdoc=[]\n",
    "newpathpdf=[]\n",
    "for filename in os.listdir(path):\n",
    "\n",
    "    if filename.endswith('.docx'):\n",
    "        newpathdocx.append(os.path.join(path,filename))\n",
    "        ndocx.append(filename)\n",
    "\n",
    "    elif filename.endswith('.doc'):\n",
    "        newpathdoc.append(os.path.join(path,filename))\n",
    "        ndoc.append(filename)\n",
    "\n",
    "    elif filename.endswith('.pdf'):\n",
    "        newpathpdf.append(os.path.join(path,filename))\n",
    "        npdf.append(filename)\n",
    "\n",
    "      \n",
    "n=ndocx+ndoc+npdf\n"
   ]
  },
  {
   "cell_type": "code",
   "execution_count": null,
   "metadata": {
    "id": "UJ0IZUq7Nvvv"
   },
   "outputs": [],
   "source": [
    "#newpathdocx"
   ]
  },
  {
   "cell_type": "code",
   "execution_count": null,
   "metadata": {
    "id": "HxQxEaoyN5IU"
   },
   "outputs": [],
   "source": [
    "#newpathdoc"
   ]
  },
  {
   "cell_type": "code",
   "execution_count": null,
   "metadata": {
    "id": "TEF3sSKJOBR9"
   },
   "outputs": [],
   "source": [
    "#newpathpdf"
   ]
  },
  {
   "cell_type": "markdown",
   "metadata": {
    "id": "CT0ozwyZmzCo"
   },
   "source": [
    "**EXTRACTING DATA FROM A DOCX FILE**"
   ]
  },
  {
   "cell_type": "code",
   "execution_count": null,
   "metadata": {
    "id": "fQQzWCBdmrxn"
   },
   "outputs": [],
   "source": [
    "extdocx=[]   #data\n",
    "for i in newpathdocx:\n",
    "  extdocx.append(docx(i))\n",
    "#for i in extdocx:\n",
    "  #print(i,end='\\n')"
   ]
  },
  {
   "cell_type": "markdown",
   "metadata": {
    "id": "UTysMItJop-H"
   },
   "source": [
    "**EXTRACTING DATA FROM PDF FILE**"
   ]
  },
  {
   "cell_type": "code",
   "execution_count": null,
   "metadata": {
    "colab": {
     "base_uri": "https://localhost:8080/"
    },
    "id": "28O2s81ynhSO",
    "outputId": "e65e464b-b336-4f01-bb8e-4be9bbd34a5b"
   },
   "outputs": [
    {
     "name": "stdout",
     "output_type": "stream",
     "text": [
      "['Page', '|', '1', 'Name:', 'M.', 'Prabakaran', 'Title:', 'UI', 'Developer', 'PROFESSIONAL', 'SUMMARY', '●', '2.4+', 'years', 'of', 'Professional', 'IT', 'experience', 'as', 'a', 'software', 'developer', 'having', 'knowledge', 'on', 'different', 'UI', 'based', 'Application.', '●', 'Hands', 'on', 'experience', 'in', 'HTML,', 'CSS,', 'JS,', 'ReactJS.', '●', 'Hands', 'on', 'experience', 'in', 'handling', 'UI', 'interaction,', 'Design', 'methodology.', '●', 'Handling', 'In', '-App', 'purchase,', 'uploading', 'and', 'maintaining', 'apps', 'in', 'play', 'store.', '●', 'Hands', 'on', 'experience', 'with', 'customization', 'over', 'base', '-product', 'depends', 'on', 'client', 'requirement.', '●', 'Cohesive', 'team', 'worker,', 'having', 'strong', 'analytical,', 'problem', 'solving', 'and', 'interpersonal', 'skills.', 'EDUCATION', '●', 'Completed', 'on', '2017', 'Bachelor', 'of', 'Technology', '(ECE)', ',', 'PRIST', 'University,', 'Tamil', 'Nadu.', '●', 'Completed', 'on', '2012', 'Higher', 'Secondary', ',', 'Mount', 'Park', 'Hr', 'Sec', 'School', ',', 'Thiyagadurgam,', 'Tamil', 'Nadu.', '●', 'Completed', 'on', '2010', 'SSLC', ',', 'Krishnasamy', 'Hr', 'Sec', 'School', ',', 'Cuddalore,', 'Tamil', 'Nadu.', 'SKILLS', 'Operating', 'System', 'Windows,', 'Unix,Mac', 'Programming', 'Languages', 'HTML,', 'CSS,', 'JS,', 'React', 'Mobile', 'App', 'Development', 'Windows', 'and', 'Android', 'Apps', 'Designing', 'Constatinant', 'layout', ',Motion', 'layout', 'Architectural', 'Pattern', 'MVC', 'IDE', 'Android', 'Studio', 'Services', 'AWS', 'bucket', 's3', 'service,', 'Bitbucket', 'PROJECT', 'DETAILS', 'Project', '1', 'Boomi', 'is', 'the', 'name', 'of', 'the', 'our', 'project', 'which', 'is', 'e', '-commerce', 'online', 'store.', 'We’d', 'developed', 'and', 'maintains', 'by', 'react', 'code.', 'Role', 'Front', 'End', 'Developer', 'Project', 'E-commerce', 'Technology', 'Android', 'Role', 'Played', '●', 'Developing', 'applications', 'using', 'Technologies', 'like', 'React', 'and', 'HTML.', '●', 'Involved', 'in', 'Requirement', 'Gathering.', '●', 'Resolving', 'client', 'given', 'queries.', '●', 'Communicating', 'with', 'the', 'team', 'and', 'adding', 'features.', '●', 'Performed', 'Restful', 'API', 'services', 'using', 'volley.', 'Page', '|', '2', 'Project', '2', 'Golden', 'Gopuram', '–', 'This’s', 'the', 'live', 'project', 'it', 'is', 'pooja', 'based', 'on', 'products', 'seems', 'it', 'going', 'on', 'development', 'also', 'available', 'on', 'source', 'Role', 'Front', 'End', 'Developer', 'Project', 'Golden', 'Gopuram', 'Technology', 'Android', 'Role', 'Played', '●', 'Developing', 'applications', 'using', 'Technologies', 'like', 'Java', 'and', 'XML.', '●', 'Involved', 'in', 'Requirement', 'Gathering.', '●', 'Resolving', 'client', 'given', 'queries.', '●', 'Communicating', 'with', 'the', 'team', 'and', 'adding', 'features.', '●', 'Performed', 'Restful', 'API', 'services', 'using', 'volley.', '●', 'Implementing', 'design', 'patterns.', 'Project', '3', 'ToDo', 'App', '–', 'This’s', 'the', 'myself', 'created', 'for', 'my', 'practice', 'seems', 'it', 'going', 'on', 'development', 'also', 'available', 'on', 'source', 'Role', 'Front', 'End', 'Developer', 'Project', 'ToDo', 'App', 'Technology', 'Android', 'Role', 'Played', '●', 'Developing', 'applications', 'using', 'Technologies', 'like', 'Java', 'and', 'XML.', '●', 'Involved', 'in', 'Requirement', 'Gathering.', '●', 'Resolving', 'client', 'given', 'queries.', '●', 'Communicating', 'with', 'the', 'team', 'and', 'adding', 'features.', '●', 'Performed', 'Restful', 'API', 'services', 'using', 'volley.', '●', 'Implementing', 'design', 'patterns.', 'Basic', 'Details:', 'DOB:', '23/01/1995', 'PAN:', 'CCRPP0144B', 'Father', 'Name:', 'Murugan,', 'Residency:', 'Cuddalore,', 'Tamilnadu.', 'Date:', 'Place:', 'Cuddalore', 'Prabakaran', 'M']\n"
     ]
    }
   ],
   "source": [
    "extpdf=[]\n",
    "for i in newpathpdf:\n",
    "  extpdf.append(pdf(i))\n",
    "\n",
    "for i in extpdf:\n",
    "  print(i,end='\\n')"
   ]
  },
  {
   "cell_type": "markdown",
   "metadata": {
    "id": "kdUd0ev7pOyS"
   },
   "source": [
    "**EXTRACTING DATA FROM DOC FILE**"
   ]
  },
  {
   "cell_type": "code",
   "execution_count": null,
   "metadata": {
    "colab": {
     "base_uri": "https://localhost:8080/"
    },
    "id": "DXtrZxTqpNgP",
    "outputId": "215ae064-25e8-4d07-a812-6949d07780a3"
   },
   "outputs": [
    {
     "name": "stderr",
     "output_type": "stream",
     "text": [
      "2022-10-28 05:55:42,203 [MainThread  ] [INFO ]  Retrieving http://search.maven.org/remotecontent?filepath=org/apache/tika/tika-server/1.24/tika-server-1.24.jar to /tmp/tika-server.jar.\n",
      "INFO:tika.tika:Retrieving http://search.maven.org/remotecontent?filepath=org/apache/tika/tika-server/1.24/tika-server-1.24.jar to /tmp/tika-server.jar.\n",
      "2022-10-28 05:55:42,463 [MainThread  ] [INFO ]  Retrieving http://search.maven.org/remotecontent?filepath=org/apache/tika/tika-server/1.24/tika-server-1.24.jar.md5 to /tmp/tika-server.jar.md5.\n",
      "INFO:tika.tika:Retrieving http://search.maven.org/remotecontent?filepath=org/apache/tika/tika-server/1.24/tika-server-1.24.jar.md5 to /tmp/tika-server.jar.md5.\n",
      "2022-10-28 05:55:42,658 [MainThread  ] [WARNI]  Failed to see startup log message; retrying...\n",
      "WARNING:tika.tika:Failed to see startup log message; retrying...\n"
     ]
    }
   ],
   "source": [
    "extdoc=[]\n",
    "for i in newpathdoc:\n",
    "  extdoc.append(doc(i)) # getting data from doc"
   ]
  },
  {
   "cell_type": "code",
   "execution_count": null,
   "metadata": {
    "id": "SSGVx-O8pUC0"
   },
   "outputs": [],
   "source": [
    "#for i in extdoc:\n",
    "  #print(i,end='\\n')"
   ]
  },
  {
   "cell_type": "markdown",
   "metadata": {
    "id": "veBirRcBNw43"
   },
   "source": [
    "**extraction of skills from pdf**"
   ]
  },
  {
   "cell_type": "markdown",
   "metadata": {
    "id": "xls43BtbN02d"
   },
   "source": [
    "**extraction of skills from docx**"
   ]
  },
  {
   "cell_type": "markdown",
   "metadata": {
    "id": "bacxSZyzV2no"
   },
   "source": [
    "**extracation skills from doc**"
   ]
  },
  {
   "cell_type": "markdown",
   "metadata": {
    "id": "J5HVsIG3YOQG"
   },
   "source": []
  },
  {
   "cell_type": "code",
   "execution_count": null,
   "metadata": {
    "id": "OXYRzwavpwk8"
   },
   "outputs": [],
   "source": [
    "final_extraction=extdocx+extdoc+extpdf"
   ]
  },
  {
   "cell_type": "code",
   "execution_count": null,
   "metadata": {
    "id": "6jKQ4TfYlJzF"
   },
   "outputs": [],
   "source": [
    "skill=[]\n",
    "for i in final_extraction:\n",
    "  skill.append(\" \".join(i))"
   ]
  },
  {
   "cell_type": "code",
   "execution_count": null,
   "metadata": {
    "id": "2TREAo4AllNi"
   },
   "outputs": [],
   "source": [
    "#for i in skill:\n",
    "  #print(i)\n",
    "  #print(\"-----------\")"
   ]
  },
  {
   "cell_type": "code",
   "execution_count": null,
   "metadata": {
    "colab": {
     "base_uri": "https://localhost:8080/"
    },
    "id": "aaoSaihyGvj_",
    "outputId": "dc428c55-9fb7-4810-c917-7bfac2f2ad45"
   },
   "outputs": [
    {
     "name": "stdout",
     "output_type": "stream",
     "text": [
      "['PeopleSoft DBA_Vivekanand Sayana.docx', 'Peoplesoft FSCM_PriyabrataHota.docx', 'RahulM_Hexaware.docx', 'React Developer_Kamalakar Reddy.docx', 'Ramalakshmi K.docx', 'Reactjs Developer_M Lokesh.docx', 'Jyotiverma_Heaware.docx', 'React Developer_Deepakreddy.docx', 'Peoplesoft FSCM_HariNarayana.docx', 'Vinod B.docx', 'ChinnaSubbarayuduM_Hexaware.docx', 'RameshP_Hexaware.docx', 'Resume_Subha Santosh_Peoplesoft FSCM.docx', 'Peoplesoft Admin_Varkala Vikas.docx', 'Srikanth-Hexaware.docx', 'Internship_Susovan Bag_Musquare Technologies.docx', 'Peoplesoft Admin_SirazuddinMohammad.docx', 'Anil kumar.docx', 'Reactjs Developer_kambala sai surendra_Musquare Technologies.docx', 'Vinay Kumar_Hexaware.docx', 'React Dev_Krishna Kanth_Musquare Technologies.docx', 'SSKumar_Hexaware.docx', 'Reactjs Developer_Ranga Gaganam_Musquare Technologies.docx', 'Peoplesoft Admin_AnubhavSingh.docx', 'Peoplesoft FSCM_Murali.docx', 'Neeraj Mishra.docx', 'Gopi Krishna_Hexaware.docx', 'React Developer_Pragnya.docx', 'React Developer_Haripriya.docx', 'AradhanaTripathi[4_0].docx', 'React Developer_Thirupathiamma.docx', 'Himaja G_(Hexaware).docx', 'kamballapradeep.docx', 'PSyamKumar[2_3].docx', 'React JS Developer_KotaniDurgaprasad[3_1] (1)-converted.docx', 'Buddha Vamsi.docx', 'Reactjs Developer_M Lokesh Babu_Musquare Technologies.docx', 'P V Sai Krishna_ Hexaware.docx', 'MooraboyinaGuravaiah_Hexaware.docx', 'Peoplesoft Admin_Murali.docx', 'Rajupavanakumari[2_10].docx', 'React Developer_Sarala Madasu-converted.docx', 'Reactjs Developer_Shaik Abdul Sharuk_Musquare Technologies.docx', 'Reactjs Developer_Pranish Sonone_Musquare Technologies.docx', 'premsai.docx', 'React Dev_Krishna Kanth.docx', 'React JS Developer_Venkatalakshmi (1)-converted.docx', 'Peoplesoft FSCM_SUJATHA.docx', 'React Developer_Naveen sadhu.docx', 'Reactjs Developer_MD Khizaruddin Rauf _Musquare Technologies.docx', 'RameshNataru[3_4].docx', 'Internship_Ravali_Musquare Technologies (1).docx', 'Nazeer Basha.doc', 'Peoplesoft Admin_Vinod Akkala.doc', 'Peoplesoft Admin_Gangareddy.doc', 'Peoplesoft Finance_Rahul Ahuja.doc', 'React JS Developer_AnjaniPriyadarshini.doc', 'J. Sumanth Royal_Hexaware.doc', 'Madeeswar A_Hexaware.doc', 'Peoplesoft FSCM_R Ahmed.doc', 'Harikrishna Akula_Hexaware.doc', 'Punugoti Swetha_Hexaware.doc', 'Hari Krishna M_Hexaware.doc', 'Sri Krishna S_Hexaware.doc', 'ShireeshKumar_Hexaware.doc', 'Peoplesoft Admin_srinivasarao.doc', 'Peoplesoft Finance_Arun Venu.doc', 'Priyanka L.doc', 'Tatikonda Kiran Kumar.doc', 'PeopleSoft DBA_Ganesh Alladi.doc', 'Naresh Babu Cherukuri_Hexaware.doc', 'React Developer_PavasGoswami.doc', 'Peoplesoft Finance_Pritam Biswas.doc', 'Peoplesoft Admin_G Ananda Rayudu.doc', 'Peoplesoft Admin_Priyanka Ramadoss.doc', 'React Developer_Vinay Reddy.doc', 'Venkateswarlu B_Hexaware.doc', 'Hima Mendu_Hexaware.doc', 'Reactjs Developer_Prabakaran_Musquare Technologies.pdf']\n"
     ]
    }
   ],
   "source": [
    "print(n,end='\\n')"
   ]
  },
  {
   "cell_type": "code",
   "execution_count": null,
   "metadata": {
    "id": "zTq2kaJjp48S"
   },
   "outputs": [],
   "source": [
    "ff={'NAME':n,'Skills':skill}"
   ]
  },
  {
   "cell_type": "code",
   "execution_count": null,
   "metadata": {
    "colab": {
     "base_uri": "https://localhost:8080/",
     "height": 424
    },
    "id": "Gthsrr44qA8l",
    "outputId": "b26db77b-579e-43c2-ed6d-c7cfc7d65d5a"
   },
   "outputs": [
    {
     "data": {
      "text/html": [
       "\n",
       "  <div id=\"df-c0a4557c-024e-45d6-bed3-982e9a5dfe13\">\n",
       "    <div class=\"colab-df-container\">\n",
       "      <div>\n",
       "<style scoped>\n",
       "    .dataframe tbody tr th:only-of-type {\n",
       "        vertical-align: middle;\n",
       "    }\n",
       "\n",
       "    .dataframe tbody tr th {\n",
       "        vertical-align: top;\n",
       "    }\n",
       "\n",
       "    .dataframe thead th {\n",
       "        text-align: right;\n",
       "    }\n",
       "</style>\n",
       "<table border=\"1\" class=\"dataframe\">\n",
       "  <thead>\n",
       "    <tr style=\"text-align: right;\">\n",
       "      <th></th>\n",
       "      <th>NAME</th>\n",
       "      <th>Skills</th>\n",
       "    </tr>\n",
       "  </thead>\n",
       "  <tbody>\n",
       "    <tr>\n",
       "      <th>0</th>\n",
       "      <td>PeopleSoft DBA_Vivekanand Sayana.docx</td>\n",
       "      <td>PeopleSoft Administration   Vivekanand Sayana ...</td>\n",
       "    </tr>\n",
       "    <tr>\n",
       "      <th>1</th>\n",
       "      <td>Peoplesoft FSCM_PriyabrataHota.docx</td>\n",
       "      <td>CAREER OBJECTIVE\\t\\t Pursuing Peoplesoft Exe...</td>\n",
       "    </tr>\n",
       "    <tr>\n",
       "      <th>2</th>\n",
       "      <td>RahulM_Hexaware.docx</td>\n",
       "      <td>Rahul  (Techno Functional Consultant)   Profes...</td>\n",
       "    </tr>\n",
       "    <tr>\n",
       "      <th>3</th>\n",
       "      <td>React Developer_Kamalakar Reddy.docx</td>\n",
       "      <td>KAMALAKAR REDDY. A  Linked In: https://www.lin...</td>\n",
       "    </tr>\n",
       "    <tr>\n",
       "      <th>4</th>\n",
       "      <td>Ramalakshmi K.docx</td>\n",
       "      <td>resume Ram...</td>\n",
       "    </tr>\n",
       "    <tr>\n",
       "      <th>...</th>\n",
       "      <td>...</td>\n",
       "      <td>...</td>\n",
       "    </tr>\n",
       "    <tr>\n",
       "      <th>74</th>\n",
       "      <td>Peoplesoft Admin_Priyanka Ramadoss.doc</td>\n",
       "      <td>Priyanka Ramadoss 61/46, MountPleasant, Coonoo...</td>\n",
       "    </tr>\n",
       "    <tr>\n",
       "      <th>75</th>\n",
       "      <td>React Developer_Vinay Reddy.doc</td>\n",
       "      <td>Maryala Vinay Reddy Professional Summary: · Ha...</td>\n",
       "    </tr>\n",
       "    <tr>\n",
       "      <th>76</th>\n",
       "      <td>Venkateswarlu B_Hexaware.doc</td>\n",
       "      <td>Mathu Kumaran Venkateswarlu.B Workday Consulta...</td>\n",
       "    </tr>\n",
       "    <tr>\n",
       "      <th>77</th>\n",
       "      <td>Hima Mendu_Hexaware.doc</td>\n",
       "      <td>HIMA.MENDU Career Objective To continue growin...</td>\n",
       "    </tr>\n",
       "    <tr>\n",
       "      <th>78</th>\n",
       "      <td>Reactjs Developer_Prabakaran_Musquare Technolo...</td>\n",
       "      <td>Page | 1 Name: M. Prabakaran Title: UI Develop...</td>\n",
       "    </tr>\n",
       "  </tbody>\n",
       "</table>\n",
       "<p>79 rows × 2 columns</p>\n",
       "</div>\n",
       "      <button class=\"colab-df-convert\" onclick=\"convertToInteractive('df-c0a4557c-024e-45d6-bed3-982e9a5dfe13')\"\n",
       "              title=\"Convert this dataframe to an interactive table.\"\n",
       "              style=\"display:none;\">\n",
       "        \n",
       "  <svg xmlns=\"http://www.w3.org/2000/svg\" height=\"24px\"viewBox=\"0 0 24 24\"\n",
       "       width=\"24px\">\n",
       "    <path d=\"M0 0h24v24H0V0z\" fill=\"none\"/>\n",
       "    <path d=\"M18.56 5.44l.94 2.06.94-2.06 2.06-.94-2.06-.94-.94-2.06-.94 2.06-2.06.94zm-11 1L8.5 8.5l.94-2.06 2.06-.94-2.06-.94L8.5 2.5l-.94 2.06-2.06.94zm10 10l.94 2.06.94-2.06 2.06-.94-2.06-.94-.94-2.06-.94 2.06-2.06.94z\"/><path d=\"M17.41 7.96l-1.37-1.37c-.4-.4-.92-.59-1.43-.59-.52 0-1.04.2-1.43.59L10.3 9.45l-7.72 7.72c-.78.78-.78 2.05 0 2.83L4 21.41c.39.39.9.59 1.41.59.51 0 1.02-.2 1.41-.59l7.78-7.78 2.81-2.81c.8-.78.8-2.07 0-2.86zM5.41 20L4 18.59l7.72-7.72 1.47 1.35L5.41 20z\"/>\n",
       "  </svg>\n",
       "      </button>\n",
       "      \n",
       "  <style>\n",
       "    .colab-df-container {\n",
       "      display:flex;\n",
       "      flex-wrap:wrap;\n",
       "      gap: 12px;\n",
       "    }\n",
       "\n",
       "    .colab-df-convert {\n",
       "      background-color: #E8F0FE;\n",
       "      border: none;\n",
       "      border-radius: 50%;\n",
       "      cursor: pointer;\n",
       "      display: none;\n",
       "      fill: #1967D2;\n",
       "      height: 32px;\n",
       "      padding: 0 0 0 0;\n",
       "      width: 32px;\n",
       "    }\n",
       "\n",
       "    .colab-df-convert:hover {\n",
       "      background-color: #E2EBFA;\n",
       "      box-shadow: 0px 1px 2px rgba(60, 64, 67, 0.3), 0px 1px 3px 1px rgba(60, 64, 67, 0.15);\n",
       "      fill: #174EA6;\n",
       "    }\n",
       "\n",
       "    [theme=dark] .colab-df-convert {\n",
       "      background-color: #3B4455;\n",
       "      fill: #D2E3FC;\n",
       "    }\n",
       "\n",
       "    [theme=dark] .colab-df-convert:hover {\n",
       "      background-color: #434B5C;\n",
       "      box-shadow: 0px 1px 3px 1px rgba(0, 0, 0, 0.15);\n",
       "      filter: drop-shadow(0px 1px 2px rgba(0, 0, 0, 0.3));\n",
       "      fill: #FFFFFF;\n",
       "    }\n",
       "  </style>\n",
       "\n",
       "      <script>\n",
       "        const buttonEl =\n",
       "          document.querySelector('#df-c0a4557c-024e-45d6-bed3-982e9a5dfe13 button.colab-df-convert');\n",
       "        buttonEl.style.display =\n",
       "          google.colab.kernel.accessAllowed ? 'block' : 'none';\n",
       "\n",
       "        async function convertToInteractive(key) {\n",
       "          const element = document.querySelector('#df-c0a4557c-024e-45d6-bed3-982e9a5dfe13');\n",
       "          const dataTable =\n",
       "            await google.colab.kernel.invokeFunction('convertToInteractive',\n",
       "                                                     [key], {});\n",
       "          if (!dataTable) return;\n",
       "\n",
       "          const docLinkHtml = 'Like what you see? Visit the ' +\n",
       "            '<a target=\"_blank\" href=https://colab.research.google.com/notebooks/data_table.ipynb>data table notebook</a>'\n",
       "            + ' to learn more about interactive tables.';\n",
       "          element.innerHTML = '';\n",
       "          dataTable['output_type'] = 'display_data';\n",
       "          await google.colab.output.renderOutput(dataTable, element);\n",
       "          const docLink = document.createElement('div');\n",
       "          docLink.innerHTML = docLinkHtml;\n",
       "          element.appendChild(docLink);\n",
       "        }\n",
       "      </script>\n",
       "    </div>\n",
       "  </div>\n",
       "  "
      ],
      "text/plain": [
       "                                                 NAME  \\\n",
       "0               PeopleSoft DBA_Vivekanand Sayana.docx   \n",
       "1                 Peoplesoft FSCM_PriyabrataHota.docx   \n",
       "2                                RahulM_Hexaware.docx   \n",
       "3                React Developer_Kamalakar Reddy.docx   \n",
       "4                                  Ramalakshmi K.docx   \n",
       "..                                                ...   \n",
       "74             Peoplesoft Admin_Priyanka Ramadoss.doc   \n",
       "75                    React Developer_Vinay Reddy.doc   \n",
       "76                       Venkateswarlu B_Hexaware.doc   \n",
       "77                            Hima Mendu_Hexaware.doc   \n",
       "78  Reactjs Developer_Prabakaran_Musquare Technolo...   \n",
       "\n",
       "                                               Skills  \n",
       "0   PeopleSoft Administration   Vivekanand Sayana ...  \n",
       "1     CAREER OBJECTIVE\\t\\t Pursuing Peoplesoft Exe...  \n",
       "2   Rahul  (Techno Functional Consultant)   Profes...  \n",
       "3   KAMALAKAR REDDY. A  Linked In: https://www.lin...  \n",
       "4                                       resume Ram...  \n",
       "..                                                ...  \n",
       "74  Priyanka Ramadoss 61/46, MountPleasant, Coonoo...  \n",
       "75  Maryala Vinay Reddy Professional Summary: · Ha...  \n",
       "76  Mathu Kumaran Venkateswarlu.B Workday Consulta...  \n",
       "77  HIMA.MENDU Career Objective To continue growin...  \n",
       "78  Page | 1 Name: M. Prabakaran Title: UI Develop...  \n",
       "\n",
       "[79 rows x 2 columns]"
      ]
     },
     "execution_count": 26,
     "metadata": {},
     "output_type": "execute_result"
    }
   ],
   "source": [
    "df=pd.DataFrame(data=ff)\n",
    "df"
   ]
  },
  {
   "cell_type": "code",
   "execution_count": null,
   "metadata": {
    "colab": {
     "base_uri": "https://localhost:8080/"
    },
    "id": "K7K0DG0cK-Ee",
    "outputId": "f6087e5e-df94-488f-aa11-1a5c12b05407"
   },
   "outputs": [
    {
     "data": {
      "text/plain": [
       "(79, 2)"
      ]
     },
     "execution_count": 28,
     "metadata": {},
     "output_type": "execute_result"
    }
   ],
   "source": [
    "df.shape"
   ]
  },
  {
   "cell_type": "code",
   "execution_count": null,
   "metadata": {
    "id": "en1SVHI_K-Hc"
   },
   "outputs": [],
   "source": [
    "from sklearn.feature_extraction.text import TfidfVectorizer"
   ]
  },
  {
   "cell_type": "code",
   "execution_count": null,
   "metadata": {
    "id": "-UnY9PiXK-Kt"
   },
   "outputs": [],
   "source": [
    "tfidf = TfidfVectorizer(max_df=0.95,min_df=2,stop_words='english')"
   ]
  },
  {
   "cell_type": "code",
   "execution_count": null,
   "metadata": {
    "id": "nZr5JeBZK-Ne"
   },
   "outputs": [],
   "source": [
    "dtm =  tfidf.fit_transform(df['Skills'])"
   ]
  },
  {
   "cell_type": "code",
   "execution_count": null,
   "metadata": {
    "colab": {
     "base_uri": "https://localhost:8080/"
    },
    "id": "SbtfRsTjK-Pa",
    "outputId": "96927774-9e15-4315-9757-aa86776dcd8a"
   },
   "outputs": [
    {
     "data": {
      "text/plain": [
       "<79x2199 sparse matrix of type '<class 'numpy.float64'>'\n",
       "\twith 17312 stored elements in Compressed Sparse Row format>"
      ]
     },
     "execution_count": 32,
     "metadata": {},
     "output_type": "execute_result"
    }
   ],
   "source": [
    "dtm"
   ]
  },
  {
   "cell_type": "code",
   "execution_count": null,
   "metadata": {
    "id": "CBwCGbD9K-RI"
   },
   "outputs": [],
   "source": [
    "from sklearn.decomposition import NMF"
   ]
  },
  {
   "cell_type": "code",
   "execution_count": null,
   "metadata": {
    "id": "AgsMFxX5K-TR"
   },
   "outputs": [],
   "source": [
    "nmf_model = NMF(n_components=15,random_state=42)"
   ]
  },
  {
   "cell_type": "code",
   "execution_count": null,
   "metadata": {
    "colab": {
     "base_uri": "https://localhost:8080/"
    },
    "id": "2GBmIXfrK-WR",
    "outputId": "f6f8af7c-cfa6-4c99-c098-318c92b8f608"
   },
   "outputs": [
    {
     "name": "stderr",
     "output_type": "stream",
     "text": [
      "/usr/local/lib/python3.7/dist-packages/sklearn/decomposition/_nmf.py:294: FutureWarning: The 'init' value, when 'init=None' and n_components is less than n_samples and n_features, will be changed from 'nndsvd' to 'nndsvda' in 1.1 (renaming of 0.26).\n",
      "  FutureWarning,\n"
     ]
    },
    {
     "data": {
      "text/plain": [
       "NMF(n_components=15, random_state=42)"
      ]
     },
     "execution_count": 138,
     "metadata": {},
     "output_type": "execute_result"
    }
   ],
   "source": [
    "nmf_model.fit(dtm)"
   ]
  },
  {
   "cell_type": "code",
   "execution_count": null,
   "metadata": {
    "colab": {
     "base_uri": "https://localhost:8080/"
    },
    "id": "vQc8EevWLZ1W",
    "outputId": "69ebbd4b-9cd2-4a21-a0f0-c8958566eb1a"
   },
   "outputs": [
    {
     "name": "stdout",
     "output_type": "stream",
     "text": [
      "THE TOP 15 WORDS FOR TOPIC #0\n",
      "['consultant', 'developed', 'security', 'writer', 'testing', 'calculated', 'transformation', 'document', 'created', 'worked', 'connector', 'outbound', 'hcm', 'fields', 'payroll', 'connectors', 'business', 'custom', 'inbound', 'xml', 'using', 'integration', 'report', 'xslt', 'studio', 'reports', 'core', 'eib', 'integrations', 'workday']\n",
      "\n",
      "\n",
      "\n",
      "\n",
      "THE TOP 15 WORDS FOR TOPIC #1\n",
      "['55', 'configuration', 'installed', 'weblogic', 'dba', 'people', 'assistant', 'configured', 'troubleshooting', 'administration', 'updates', 'setup', 'production', 'peopletools', 'instances', 'tuxedo', 'pum', 'applying', 'environments', 'web', 'process', 'oracle', 'patches', 'scheduler', 'database', 'application', 'domains', 'servers', 'server', 'peoplesoft']\n",
      "\n",
      "\n",
      "\n",
      "\n",
      "THE TOP 15 WORDS FOR TOPIC #2\n",
      "['github', 'designing', 'forms', 'single', 'website', 'events', 'extensive', 'dom', 'responsible', 'animations', 'developing', 'router', 'pages', 'concepts', 'used', 'develop', 'json', 'bootstrap', 'web', 'html5', 'using', 'flux', 'developer', 'redux', 'css3', 'ui', 'javascript', 'components', 'js', 'react']\n",
      "\n",
      "\n",
      "\n",
      "\n",
      "THE TOP 15 WORDS FOR TOPIC #3\n",
      "['packages', 'knowledge', 'care', 'services', 'good', 'query', 'ssrs', 'reports', 'cte', 'merge', 'health', 'sub', 'task', 'joins', 'clustered', 'using', 'table', 'data', 'database', 'queries', 'triggers', 'stored', 'views', 'ssis', 'indexes', 'procedures', 'tables', 'functions', 'server', 'sql']\n",
      "\n",
      "\n",
      "\n",
      "\n",
      "THE TOP 15 WORDS FOR TOPIC #4\n",
      "['test', 'andhra', 'business', 'technical', 'approach', 'pradesh', 'customize', 'fdd', 'hyderabad', 'component', 'india', 'peoplesoft', 'cases', 'understand', 'code', 'objects', 'unit', 'prepare', 'sit', 'documents', 'retrofit', 'hsbc', 'verizon', 'design', 'responsible', 'programs', 'randstad', 'engine', 'application', 'people']\n",
      "\n",
      "\n",
      "\n",
      "\n",
      "THE TOP 15 WORDS FOR TOPIC #5\n",
      "['customer', 'web', 'design', 'place', 'javascript', 'bootstrap', 'programming', 'product', '2019', 'jquery', 'coordinating', 'react', 'team', 'inventory', 'git', 'review', 'control', 'stock', 'babu', 'mareedu', 'lokesh', 'rmc', 'node', 'html', 'mysql', 'css', 'concrete', 'redimix', 'php', 'js']\n",
      "\n",
      "\n",
      "\n",
      "\n",
      "THE TOP 15 WORDS FOR TOPIC #6\n",
      "['2018', 'personal', 'computer', 'paper', 'js', '2015', '2012', '2k18', 'poster', 'present', 'certificate', '08', '63', 'zp', 'presentation', 'school', 'ethical', 'coordinator', 'hacking', 'engineer', 'diet', '2011', 'visakhapatnam', 'participated', 'academic', '03', 'college', 'engineering', 'conducted', 'percentage']\n",
      "\n",
      "\n",
      "\n",
      "\n",
      "THE TOP 15 WORDS FOR TOPIC #7\n",
      "['models', 'creating', 'consultant', 'salary', 'plans', 'functional', 'management', 'positions', 'processes', 'eib', 'staffing', 'setup', 'security', 'organization', 'cost', 'profiles', 'process', 'calculated', 'fields', 'hierarchies', 'reports', 'hcm', 'custom', 'hr', 'compensation', 'supervisory', 'business', 'organizations', 'job', 'workday']\n",
      "\n",
      "\n",
      "\n",
      "\n",
      "THE TOP 15 WORDS FOR TOPIC #8\n",
      "['app', 'control', 'role', 'period', 'suisse', 'international', 'requisition', 'project', 'created', 'applications', 'engine', 'component', 'consultant', 'sqr', 'publisher', 'modules', 'oracle', 'pages', 'support', 'query', 'team', 'designer', 'worked', 'financial', 'application', 'fscm', 'people', 'tools', 'ps', 'peoplesoft']\n",
      "\n",
      "\n",
      "\n",
      "\n",
      "THE TOP 15 WORDS FOR TOPIC #9\n",
      "['failed', 'qualities', 'worked', 'axa', 'certification', 'star', 'electronics', 'developed', 'singing', 'service', 'specific', 'dashboards', '2020', 'accounts', 'sql', 'reports', 'basic', 'desktop', 'successfully', '2021', 'data', 'learning', 'capgemini', 'java', 'finance', 'japanese', 'award', 'customer', 'bi', 'power']\n",
      "\n",
      "\n",
      "\n",
      "\n",
      "THE TOP 15 WORDS FOR TOPIC #10\n",
      "['vehicles', 'goal', '2021', 'delete', 'senior', 'need', 'library', 'red', 'correct', 'car', 'auto', 'driving', 'strengths', 'reputed', 'todo', 'real', 'read', 'conjunction', 'gmail', 'profile', 'linkedin', 'objective', 'app', 'wipro', 'com', 'react', 'built', 'redux', 'github', 'list']\n",
      "\n",
      "\n",
      "\n",
      "\n",
      "THE TOP 15 WORDS FOR TOPIC #11\n",
      "['static', 'stlc', 'cyber', 'skills', 'birth', 'adhoc', 'best', 'understanding', 'triage', 'telugu', 'reddy', 'concepts', 'functional', 'integration', 'training', 'normalization', 'traffic', 'com', 'scrum', '100', 'certified', '200', 'method', 'cases', 'test', 'identified', 'meeting', 'testing', 'good', 'knowledge']\n",
      "\n",
      "\n",
      "\n",
      "\n",
      "THE TOP 15 WORDS FOR TOPIC #12\n",
      "['title', 'adopting', 'facing', 'emerging', 'ecma', 'stake', 'holders', 'proactive', 'signup', 'principles', 'addressing', 'end', 'proficiency', 'management', 'creations', 'construction', 'ui', 'reactjs', 'use', 'menu', 'css3', 'hooks', 'libraries', 'metrolabs', 'developer', 'organizer', 'application', 'js', 'react', 'javascript']\n",
      "\n",
      "\n",
      "\n",
      "\n",
      "THE TOP 15 WORDS FOR TOPIC #13\n",
      "['hotel', 'skills', 'technology', 'work', 'title', 'technologies', 'react', 'reddy', 'hyderabad', 'customers', 'description', 'team', 'js', 'responsive', 'designing', 'android', 'design', 'using', 'services', 'project', 'mobile', 'javascript', 'bootstrap', 'html5', 'css', 'jquery', 'css3', 'ui', 'web', 'html']\n",
      "\n",
      "\n",
      "\n",
      "\n",
      "THE TOP 15 WORDS FOR TOPIC #14\n",
      "['office', 'studio', 'information', 'business', 'microsoft', 'intelligence', 'largest', 'warehouse', 'models', 'country', 'brand', 'platform', 'group', 'ssis', 'limited', 'project', 'stores', 'database', 'mysql', 'bi', 'ms', 'inventory', 'server', 'sales', 'etl', 'cube', 'aws', 'sql', 'retail', 'data']\n",
      "\n",
      "\n",
      "\n",
      "\n"
     ]
    }
   ],
   "source": [
    "for i,topic in enumerate(nmf_model.components_):\n",
    "    print(f\"THE TOP 15 WORDS FOR TOPIC #{i}\")\n",
    "    print([tfidf.get_feature_names()[index] for index in topic.argsort()[-30:]])\n",
    "    print('\\n')\n",
    "    print('\\n')"
   ]
  },
  {
   "cell_type": "code",
   "execution_count": null,
   "metadata": {
    "colab": {
     "base_uri": "https://localhost:8080/"
    },
    "id": "KwQ2kOR5LZ3p",
    "outputId": "0eb71000-f8d9-4151-be5b-5abaa6160765"
   },
   "outputs": [
    {
     "data": {
      "text/plain": [
       "<79x2199 sparse matrix of type '<class 'numpy.float64'>'\n",
       "\twith 17312 stored elements in Compressed Sparse Row format>"
      ]
     },
     "execution_count": 141,
     "metadata": {},
     "output_type": "execute_result"
    }
   ],
   "source": [
    "dtm"
   ]
  },
  {
   "cell_type": "code",
   "execution_count": null,
   "metadata": {
    "id": "qk3BEUwxLZ7L"
   },
   "outputs": [],
   "source": [
    "nmf_final_model = nmf_model.transform(dtm)"
   ]
  },
  {
   "cell_type": "code",
   "execution_count": null,
   "metadata": {
    "colab": {
     "base_uri": "https://localhost:8080/"
    },
    "id": "6_hA3_OMLZ-Z",
    "outputId": "f19c69be-266e-495a-c797-3b56489ca4af"
   },
   "outputs": [
    {
     "data": {
      "text/plain": [
       "array([ 1,  8,  0, 13, 14,  5,  7, 13,  4,  3,  0,  7,  9,  1,  0, 13,  1,\n",
       "        3,  6,  0,  2,  0, 12,  1,  4,  3,  0, 13, 13, 14,  2,  0,  3,  3,\n",
       "       13,  6,  5,  7,  0,  1,  3, 13, 10,  2,  3,  2,  6,  6, 13,  2,  3,\n",
       "       11,  9,  1,  1,  8, 13,  0,  0,  8,  0,  0,  7,  0,  7,  1,  8,  3,\n",
       "        3,  1,  0,  9,  8,  1,  1, 12,  0,  7, 13])"
      ]
     },
     "execution_count": 143,
     "metadata": {},
     "output_type": "execute_result"
    }
   ],
   "source": [
    "nmf_final_model.argmax(axis=1)"
   ]
  },
  {
   "cell_type": "code",
   "execution_count": null,
   "metadata": {
    "id": "r8ND9Vi8LaBN"
   },
   "outputs": [],
   "source": [
    "df['Role']=nmf_final_model.argmax(axis=1)"
   ]
  },
  {
   "cell_type": "code",
   "execution_count": null,
   "metadata": {
    "colab": {
     "base_uri": "https://localhost:8080/",
     "height": 424
    },
    "id": "GVbvtME6LaDr",
    "outputId": "d4b1a1f3-bff9-423c-8839-a2b16c5ddf19"
   },
   "outputs": [
    {
     "data": {
      "text/html": [
       "\n",
       "  <div id=\"df-b5bcee57-3d0e-40cf-aeb5-2a36f73d6832\">\n",
       "    <div class=\"colab-df-container\">\n",
       "      <div>\n",
       "<style scoped>\n",
       "    .dataframe tbody tr th:only-of-type {\n",
       "        vertical-align: middle;\n",
       "    }\n",
       "\n",
       "    .dataframe tbody tr th {\n",
       "        vertical-align: top;\n",
       "    }\n",
       "\n",
       "    .dataframe thead th {\n",
       "        text-align: right;\n",
       "    }\n",
       "</style>\n",
       "<table border=\"1\" class=\"dataframe\">\n",
       "  <thead>\n",
       "    <tr style=\"text-align: right;\">\n",
       "      <th></th>\n",
       "      <th>NAME</th>\n",
       "      <th>Skills</th>\n",
       "      <th>Role</th>\n",
       "      <th>RoleName</th>\n",
       "    </tr>\n",
       "  </thead>\n",
       "  <tbody>\n",
       "    <tr>\n",
       "      <th>0</th>\n",
       "      <td>PeopleSoft DBA_Vivekanand Sayana.docx</td>\n",
       "      <td>PeopleSoft Administration   Vivekanand Sayana ...</td>\n",
       "      <td>1</td>\n",
       "      <td>Peoplesoft</td>\n",
       "    </tr>\n",
       "    <tr>\n",
       "      <th>1</th>\n",
       "      <td>Peoplesoft FSCM_PriyabrataHota.docx</td>\n",
       "      <td>CAREER OBJECTIVE\\t\\t Pursuing Peoplesoft Exe...</td>\n",
       "      <td>8</td>\n",
       "      <td>Peoplesoft</td>\n",
       "    </tr>\n",
       "    <tr>\n",
       "      <th>2</th>\n",
       "      <td>RahulM_Hexaware.docx</td>\n",
       "      <td>Rahul  (Techno Functional Consultant)   Profes...</td>\n",
       "      <td>0</td>\n",
       "      <td>Workday</td>\n",
       "    </tr>\n",
       "    <tr>\n",
       "      <th>3</th>\n",
       "      <td>React Developer_Kamalakar Reddy.docx</td>\n",
       "      <td>KAMALAKAR REDDY. A  Linked In: https://www.lin...</td>\n",
       "      <td>13</td>\n",
       "      <td>Web Developer</td>\n",
       "    </tr>\n",
       "    <tr>\n",
       "      <th>4</th>\n",
       "      <td>Ramalakshmi K.docx</td>\n",
       "      <td>resume Ram...</td>\n",
       "      <td>14</td>\n",
       "      <td>SQL Database</td>\n",
       "    </tr>\n",
       "    <tr>\n",
       "      <th>...</th>\n",
       "      <td>...</td>\n",
       "      <td>...</td>\n",
       "      <td>...</td>\n",
       "      <td>...</td>\n",
       "    </tr>\n",
       "    <tr>\n",
       "      <th>74</th>\n",
       "      <td>Peoplesoft Admin_Priyanka Ramadoss.doc</td>\n",
       "      <td>Priyanka Ramadoss 61/46, MountPleasant, Coonoo...</td>\n",
       "      <td>1</td>\n",
       "      <td>Peoplesoft</td>\n",
       "    </tr>\n",
       "    <tr>\n",
       "      <th>75</th>\n",
       "      <td>React Developer_Vinay Reddy.doc</td>\n",
       "      <td>Maryala Vinay Reddy Professional Summary: · Ha...</td>\n",
       "      <td>12</td>\n",
       "      <td>Web Developer</td>\n",
       "    </tr>\n",
       "    <tr>\n",
       "      <th>76</th>\n",
       "      <td>Venkateswarlu B_Hexaware.doc</td>\n",
       "      <td>Mathu Kumaran Venkateswarlu.B Workday Consulta...</td>\n",
       "      <td>0</td>\n",
       "      <td>Workday</td>\n",
       "    </tr>\n",
       "    <tr>\n",
       "      <th>77</th>\n",
       "      <td>Hima Mendu_Hexaware.doc</td>\n",
       "      <td>HIMA.MENDU Career Objective To continue growin...</td>\n",
       "      <td>7</td>\n",
       "      <td>Workday</td>\n",
       "    </tr>\n",
       "    <tr>\n",
       "      <th>78</th>\n",
       "      <td>Reactjs Developer_Prabakaran_Musquare Technolo...</td>\n",
       "      <td>Page | 1 Name: M. Prabakaran Title: UI Develop...</td>\n",
       "      <td>13</td>\n",
       "      <td>Web Developer</td>\n",
       "    </tr>\n",
       "  </tbody>\n",
       "</table>\n",
       "<p>79 rows × 4 columns</p>\n",
       "</div>\n",
       "      <button class=\"colab-df-convert\" onclick=\"convertToInteractive('df-b5bcee57-3d0e-40cf-aeb5-2a36f73d6832')\"\n",
       "              title=\"Convert this dataframe to an interactive table.\"\n",
       "              style=\"display:none;\">\n",
       "        \n",
       "  <svg xmlns=\"http://www.w3.org/2000/svg\" height=\"24px\"viewBox=\"0 0 24 24\"\n",
       "       width=\"24px\">\n",
       "    <path d=\"M0 0h24v24H0V0z\" fill=\"none\"/>\n",
       "    <path d=\"M18.56 5.44l.94 2.06.94-2.06 2.06-.94-2.06-.94-.94-2.06-.94 2.06-2.06.94zm-11 1L8.5 8.5l.94-2.06 2.06-.94-2.06-.94L8.5 2.5l-.94 2.06-2.06.94zm10 10l.94 2.06.94-2.06 2.06-.94-2.06-.94-.94-2.06-.94 2.06-2.06.94z\"/><path d=\"M17.41 7.96l-1.37-1.37c-.4-.4-.92-.59-1.43-.59-.52 0-1.04.2-1.43.59L10.3 9.45l-7.72 7.72c-.78.78-.78 2.05 0 2.83L4 21.41c.39.39.9.59 1.41.59.51 0 1.02-.2 1.41-.59l7.78-7.78 2.81-2.81c.8-.78.8-2.07 0-2.86zM5.41 20L4 18.59l7.72-7.72 1.47 1.35L5.41 20z\"/>\n",
       "  </svg>\n",
       "      </button>\n",
       "      \n",
       "  <style>\n",
       "    .colab-df-container {\n",
       "      display:flex;\n",
       "      flex-wrap:wrap;\n",
       "      gap: 12px;\n",
       "    }\n",
       "\n",
       "    .colab-df-convert {\n",
       "      background-color: #E8F0FE;\n",
       "      border: none;\n",
       "      border-radius: 50%;\n",
       "      cursor: pointer;\n",
       "      display: none;\n",
       "      fill: #1967D2;\n",
       "      height: 32px;\n",
       "      padding: 0 0 0 0;\n",
       "      width: 32px;\n",
       "    }\n",
       "\n",
       "    .colab-df-convert:hover {\n",
       "      background-color: #E2EBFA;\n",
       "      box-shadow: 0px 1px 2px rgba(60, 64, 67, 0.3), 0px 1px 3px 1px rgba(60, 64, 67, 0.15);\n",
       "      fill: #174EA6;\n",
       "    }\n",
       "\n",
       "    [theme=dark] .colab-df-convert {\n",
       "      background-color: #3B4455;\n",
       "      fill: #D2E3FC;\n",
       "    }\n",
       "\n",
       "    [theme=dark] .colab-df-convert:hover {\n",
       "      background-color: #434B5C;\n",
       "      box-shadow: 0px 1px 3px 1px rgba(0, 0, 0, 0.15);\n",
       "      filter: drop-shadow(0px 1px 2px rgba(0, 0, 0, 0.3));\n",
       "      fill: #FFFFFF;\n",
       "    }\n",
       "  </style>\n",
       "\n",
       "      <script>\n",
       "        const buttonEl =\n",
       "          document.querySelector('#df-b5bcee57-3d0e-40cf-aeb5-2a36f73d6832 button.colab-df-convert');\n",
       "        buttonEl.style.display =\n",
       "          google.colab.kernel.accessAllowed ? 'block' : 'none';\n",
       "\n",
       "        async function convertToInteractive(key) {\n",
       "          const element = document.querySelector('#df-b5bcee57-3d0e-40cf-aeb5-2a36f73d6832');\n",
       "          const dataTable =\n",
       "            await google.colab.kernel.invokeFunction('convertToInteractive',\n",
       "                                                     [key], {});\n",
       "          if (!dataTable) return;\n",
       "\n",
       "          const docLinkHtml = 'Like what you see? Visit the ' +\n",
       "            '<a target=\"_blank\" href=https://colab.research.google.com/notebooks/data_table.ipynb>data table notebook</a>'\n",
       "            + ' to learn more about interactive tables.';\n",
       "          element.innerHTML = '';\n",
       "          dataTable['output_type'] = 'display_data';\n",
       "          await google.colab.output.renderOutput(dataTable, element);\n",
       "          const docLink = document.createElement('div');\n",
       "          docLink.innerHTML = docLinkHtml;\n",
       "          element.appendChild(docLink);\n",
       "        }\n",
       "      </script>\n",
       "    </div>\n",
       "  </div>\n",
       "  "
      ],
      "text/plain": [
       "                                                 NAME  \\\n",
       "0               PeopleSoft DBA_Vivekanand Sayana.docx   \n",
       "1                 Peoplesoft FSCM_PriyabrataHota.docx   \n",
       "2                                RahulM_Hexaware.docx   \n",
       "3                React Developer_Kamalakar Reddy.docx   \n",
       "4                                  Ramalakshmi K.docx   \n",
       "..                                                ...   \n",
       "74             Peoplesoft Admin_Priyanka Ramadoss.doc   \n",
       "75                    React Developer_Vinay Reddy.doc   \n",
       "76                       Venkateswarlu B_Hexaware.doc   \n",
       "77                            Hima Mendu_Hexaware.doc   \n",
       "78  Reactjs Developer_Prabakaran_Musquare Technolo...   \n",
       "\n",
       "                                               Skills  Role       RoleName  \n",
       "0   PeopleSoft Administration   Vivekanand Sayana ...     1     Peoplesoft  \n",
       "1     CAREER OBJECTIVE\\t\\t Pursuing Peoplesoft Exe...     8     Peoplesoft  \n",
       "2   Rahul  (Techno Functional Consultant)   Profes...     0        Workday  \n",
       "3   KAMALAKAR REDDY. A  Linked In: https://www.lin...    13  Web Developer  \n",
       "4                                       resume Ram...    14   SQL Database  \n",
       "..                                                ...   ...            ...  \n",
       "74  Priyanka Ramadoss 61/46, MountPleasant, Coonoo...     1     Peoplesoft  \n",
       "75  Maryala Vinay Reddy Professional Summary: · Ha...    12  Web Developer  \n",
       "76  Mathu Kumaran Venkateswarlu.B Workday Consulta...     0        Workday  \n",
       "77  HIMA.MENDU Career Objective To continue growin...     7        Workday  \n",
       "78  Page | 1 Name: M. Prabakaran Title: UI Develop...    13  Web Developer  \n",
       "\n",
       "[79 rows x 4 columns]"
      ]
     },
     "execution_count": 145,
     "metadata": {},
     "output_type": "execute_result"
    }
   ],
   "source": [
    "df"
   ]
  },
  {
   "cell_type": "code",
   "execution_count": null,
   "metadata": {
    "colab": {
     "base_uri": "https://localhost:8080/"
    },
    "id": "5UZILCoMLaFY",
    "outputId": "a02b66ca-2ca0-4255-df09-e3e830df57a0"
   },
   "outputs": [
    {
     "data": {
      "text/plain": [
       "{1: 'Politics', 2: 'Some other topics'}"
      ]
     },
     "execution_count": 146,
     "metadata": {},
     "output_type": "execute_result"
    }
   ],
   "source": [
    "{1:'Politics',2:'Some other topics'}"
   ]
  },
  {
   "cell_type": "code",
   "execution_count": null,
   "metadata": {
    "id": "CgS-RNHLLaHE"
   },
   "outputs": [],
   "source": [
    "mytopic={0:'Workday',1:'Peoplesoft',2:'Frontend Developer',3:'DBM',4:'Peoplesoft',5:'Frontend Developer',6:'Student',7:'Workday',8:'Peoplesoft',9:'Analyst',10:'Frontend Developer',11:'Frontend Developer',12:'Frontend Developer',13:'Frontend Developer',14:'Analyst'}\n",
    "df['RoleName']= df['Role'].map(mytopic)"
   ]
  },
  {
   "cell_type": "code",
   "execution_count": null,
   "metadata": {
    "colab": {
     "base_uri": "https://localhost:8080/",
     "height": 424
    },
    "id": "MEg-pCYkLaJJ",
    "outputId": "87a859b3-1bce-4102-f1a6-1d2125e8126d"
   },
   "outputs": [
    {
     "data": {
      "text/html": [
       "\n",
       "  <div id=\"df-98a88db1-c2d8-4c37-af1a-d797f50683e1\">\n",
       "    <div class=\"colab-df-container\">\n",
       "      <div>\n",
       "<style scoped>\n",
       "    .dataframe tbody tr th:only-of-type {\n",
       "        vertical-align: middle;\n",
       "    }\n",
       "\n",
       "    .dataframe tbody tr th {\n",
       "        vertical-align: top;\n",
       "    }\n",
       "\n",
       "    .dataframe thead th {\n",
       "        text-align: right;\n",
       "    }\n",
       "</style>\n",
       "<table border=\"1\" class=\"dataframe\">\n",
       "  <thead>\n",
       "    <tr style=\"text-align: right;\">\n",
       "      <th></th>\n",
       "      <th>NAME</th>\n",
       "      <th>Skills</th>\n",
       "      <th>Role</th>\n",
       "      <th>RoleName</th>\n",
       "    </tr>\n",
       "  </thead>\n",
       "  <tbody>\n",
       "    <tr>\n",
       "      <th>0</th>\n",
       "      <td>PeopleSoft DBA_Vivekanand Sayana.docx</td>\n",
       "      <td>PeopleSoft Administration   Vivekanand Sayana ...</td>\n",
       "      <td>1</td>\n",
       "      <td>Peoplesoft</td>\n",
       "    </tr>\n",
       "    <tr>\n",
       "      <th>1</th>\n",
       "      <td>Peoplesoft FSCM_PriyabrataHota.docx</td>\n",
       "      <td>CAREER OBJECTIVE\\t\\t Pursuing Peoplesoft Exe...</td>\n",
       "      <td>8</td>\n",
       "      <td>Peoplesoft</td>\n",
       "    </tr>\n",
       "    <tr>\n",
       "      <th>2</th>\n",
       "      <td>RahulM_Hexaware.docx</td>\n",
       "      <td>Rahul  (Techno Functional Consultant)   Profes...</td>\n",
       "      <td>0</td>\n",
       "      <td>Workday</td>\n",
       "    </tr>\n",
       "    <tr>\n",
       "      <th>3</th>\n",
       "      <td>React Developer_Kamalakar Reddy.docx</td>\n",
       "      <td>KAMALAKAR REDDY. A  Linked In: https://www.lin...</td>\n",
       "      <td>13</td>\n",
       "      <td>Frontend Developer</td>\n",
       "    </tr>\n",
       "    <tr>\n",
       "      <th>4</th>\n",
       "      <td>Ramalakshmi K.docx</td>\n",
       "      <td>resume Ram...</td>\n",
       "      <td>14</td>\n",
       "      <td>Analyst</td>\n",
       "    </tr>\n",
       "    <tr>\n",
       "      <th>...</th>\n",
       "      <td>...</td>\n",
       "      <td>...</td>\n",
       "      <td>...</td>\n",
       "      <td>...</td>\n",
       "    </tr>\n",
       "    <tr>\n",
       "      <th>74</th>\n",
       "      <td>Peoplesoft Admin_Priyanka Ramadoss.doc</td>\n",
       "      <td>Priyanka Ramadoss 61/46, MountPleasant, Coonoo...</td>\n",
       "      <td>1</td>\n",
       "      <td>Peoplesoft</td>\n",
       "    </tr>\n",
       "    <tr>\n",
       "      <th>75</th>\n",
       "      <td>React Developer_Vinay Reddy.doc</td>\n",
       "      <td>Maryala Vinay Reddy Professional Summary: · Ha...</td>\n",
       "      <td>12</td>\n",
       "      <td>Frontend Developer</td>\n",
       "    </tr>\n",
       "    <tr>\n",
       "      <th>76</th>\n",
       "      <td>Venkateswarlu B_Hexaware.doc</td>\n",
       "      <td>Mathu Kumaran Venkateswarlu.B Workday Consulta...</td>\n",
       "      <td>0</td>\n",
       "      <td>Workday</td>\n",
       "    </tr>\n",
       "    <tr>\n",
       "      <th>77</th>\n",
       "      <td>Hima Mendu_Hexaware.doc</td>\n",
       "      <td>HIMA.MENDU Career Objective To continue growin...</td>\n",
       "      <td>7</td>\n",
       "      <td>Workday</td>\n",
       "    </tr>\n",
       "    <tr>\n",
       "      <th>78</th>\n",
       "      <td>Reactjs Developer_Prabakaran_Musquare Technolo...</td>\n",
       "      <td>Page | 1 Name: M. Prabakaran Title: UI Develop...</td>\n",
       "      <td>13</td>\n",
       "      <td>Frontend Developer</td>\n",
       "    </tr>\n",
       "  </tbody>\n",
       "</table>\n",
       "<p>79 rows × 4 columns</p>\n",
       "</div>\n",
       "      <button class=\"colab-df-convert\" onclick=\"convertToInteractive('df-98a88db1-c2d8-4c37-af1a-d797f50683e1')\"\n",
       "              title=\"Convert this dataframe to an interactive table.\"\n",
       "              style=\"display:none;\">\n",
       "        \n",
       "  <svg xmlns=\"http://www.w3.org/2000/svg\" height=\"24px\"viewBox=\"0 0 24 24\"\n",
       "       width=\"24px\">\n",
       "    <path d=\"M0 0h24v24H0V0z\" fill=\"none\"/>\n",
       "    <path d=\"M18.56 5.44l.94 2.06.94-2.06 2.06-.94-2.06-.94-.94-2.06-.94 2.06-2.06.94zm-11 1L8.5 8.5l.94-2.06 2.06-.94-2.06-.94L8.5 2.5l-.94 2.06-2.06.94zm10 10l.94 2.06.94-2.06 2.06-.94-2.06-.94-.94-2.06-.94 2.06-2.06.94z\"/><path d=\"M17.41 7.96l-1.37-1.37c-.4-.4-.92-.59-1.43-.59-.52 0-1.04.2-1.43.59L10.3 9.45l-7.72 7.72c-.78.78-.78 2.05 0 2.83L4 21.41c.39.39.9.59 1.41.59.51 0 1.02-.2 1.41-.59l7.78-7.78 2.81-2.81c.8-.78.8-2.07 0-2.86zM5.41 20L4 18.59l7.72-7.72 1.47 1.35L5.41 20z\"/>\n",
       "  </svg>\n",
       "      </button>\n",
       "      \n",
       "  <style>\n",
       "    .colab-df-container {\n",
       "      display:flex;\n",
       "      flex-wrap:wrap;\n",
       "      gap: 12px;\n",
       "    }\n",
       "\n",
       "    .colab-df-convert {\n",
       "      background-color: #E8F0FE;\n",
       "      border: none;\n",
       "      border-radius: 50%;\n",
       "      cursor: pointer;\n",
       "      display: none;\n",
       "      fill: #1967D2;\n",
       "      height: 32px;\n",
       "      padding: 0 0 0 0;\n",
       "      width: 32px;\n",
       "    }\n",
       "\n",
       "    .colab-df-convert:hover {\n",
       "      background-color: #E2EBFA;\n",
       "      box-shadow: 0px 1px 2px rgba(60, 64, 67, 0.3), 0px 1px 3px 1px rgba(60, 64, 67, 0.15);\n",
       "      fill: #174EA6;\n",
       "    }\n",
       "\n",
       "    [theme=dark] .colab-df-convert {\n",
       "      background-color: #3B4455;\n",
       "      fill: #D2E3FC;\n",
       "    }\n",
       "\n",
       "    [theme=dark] .colab-df-convert:hover {\n",
       "      background-color: #434B5C;\n",
       "      box-shadow: 0px 1px 3px 1px rgba(0, 0, 0, 0.15);\n",
       "      filter: drop-shadow(0px 1px 2px rgba(0, 0, 0, 0.3));\n",
       "      fill: #FFFFFF;\n",
       "    }\n",
       "  </style>\n",
       "\n",
       "      <script>\n",
       "        const buttonEl =\n",
       "          document.querySelector('#df-98a88db1-c2d8-4c37-af1a-d797f50683e1 button.colab-df-convert');\n",
       "        buttonEl.style.display =\n",
       "          google.colab.kernel.accessAllowed ? 'block' : 'none';\n",
       "\n",
       "        async function convertToInteractive(key) {\n",
       "          const element = document.querySelector('#df-98a88db1-c2d8-4c37-af1a-d797f50683e1');\n",
       "          const dataTable =\n",
       "            await google.colab.kernel.invokeFunction('convertToInteractive',\n",
       "                                                     [key], {});\n",
       "          if (!dataTable) return;\n",
       "\n",
       "          const docLinkHtml = 'Like what you see? Visit the ' +\n",
       "            '<a target=\"_blank\" href=https://colab.research.google.com/notebooks/data_table.ipynb>data table notebook</a>'\n",
       "            + ' to learn more about interactive tables.';\n",
       "          element.innerHTML = '';\n",
       "          dataTable['output_type'] = 'display_data';\n",
       "          await google.colab.output.renderOutput(dataTable, element);\n",
       "          const docLink = document.createElement('div');\n",
       "          docLink.innerHTML = docLinkHtml;\n",
       "          element.appendChild(docLink);\n",
       "        }\n",
       "      </script>\n",
       "    </div>\n",
       "  </div>\n",
       "  "
      ],
      "text/plain": [
       "                                                 NAME  \\\n",
       "0               PeopleSoft DBA_Vivekanand Sayana.docx   \n",
       "1                 Peoplesoft FSCM_PriyabrataHota.docx   \n",
       "2                                RahulM_Hexaware.docx   \n",
       "3                React Developer_Kamalakar Reddy.docx   \n",
       "4                                  Ramalakshmi K.docx   \n",
       "..                                                ...   \n",
       "74             Peoplesoft Admin_Priyanka Ramadoss.doc   \n",
       "75                    React Developer_Vinay Reddy.doc   \n",
       "76                       Venkateswarlu B_Hexaware.doc   \n",
       "77                            Hima Mendu_Hexaware.doc   \n",
       "78  Reactjs Developer_Prabakaran_Musquare Technolo...   \n",
       "\n",
       "                                               Skills  Role  \\\n",
       "0   PeopleSoft Administration   Vivekanand Sayana ...     1   \n",
       "1     CAREER OBJECTIVE\\t\\t Pursuing Peoplesoft Exe...     8   \n",
       "2   Rahul  (Techno Functional Consultant)   Profes...     0   \n",
       "3   KAMALAKAR REDDY. A  Linked In: https://www.lin...    13   \n",
       "4                                       resume Ram...    14   \n",
       "..                                                ...   ...   \n",
       "74  Priyanka Ramadoss 61/46, MountPleasant, Coonoo...     1   \n",
       "75  Maryala Vinay Reddy Professional Summary: · Ha...    12   \n",
       "76  Mathu Kumaran Venkateswarlu.B Workday Consulta...     0   \n",
       "77  HIMA.MENDU Career Objective To continue growin...     7   \n",
       "78  Page | 1 Name: M. Prabakaran Title: UI Develop...    13   \n",
       "\n",
       "              RoleName  \n",
       "0           Peoplesoft  \n",
       "1           Peoplesoft  \n",
       "2              Workday  \n",
       "3   Frontend Developer  \n",
       "4              Analyst  \n",
       "..                 ...  \n",
       "74          Peoplesoft  \n",
       "75  Frontend Developer  \n",
       "76             Workday  \n",
       "77             Workday  \n",
       "78  Frontend Developer  \n",
       "\n",
       "[79 rows x 4 columns]"
      ]
     },
     "execution_count": 259,
     "metadata": {},
     "output_type": "execute_result"
    }
   ],
   "source": [
    "df"
   ]
  },
  {
   "cell_type": "code",
   "execution_count": null,
   "metadata": {
    "colab": {
     "base_uri": "https://localhost:8080/"
    },
    "id": "h3bcUhsrLaK_",
    "outputId": "fe0ca1f9-9536-4850-8dc3-7141427a45d9"
   },
   "outputs": [
    {
     "data": {
      "text/plain": [
       "array(['Peoplesoft', 'Workday', 'Frontend Developer', 'Analyst', 'DBM',\n",
       "       'Student'], dtype=object)"
      ]
     },
     "execution_count": 260,
     "metadata": {},
     "output_type": "execute_result"
    }
   ],
   "source": [
    "df['RoleName'].unique()"
   ]
  },
  {
   "cell_type": "markdown",
   "metadata": {
    "id": "ZrwLzErflWkz"
   },
   "source": [
    "**VISUAILIZATION**"
   ]
  },
  {
   "cell_type": "code",
   "execution_count": null,
   "metadata": {
    "colab": {
     "base_uri": "https://localhost:8080/",
     "height": 471
    },
    "id": "TJ9pOa3-l4uc",
    "outputId": "ab990d5b-6bc2-4a62-cd29-d28b15feb9c6"
   },
   "outputs": [
    {
     "data": {
      "text/plain": [
       "<matplotlib.axes._subplots.AxesSubplot at 0x7fbe02ed0750>"
      ]
     },
     "execution_count": 261,
     "metadata": {},
     "output_type": "execute_result"
    },
    {
     "data": {
      "image/png": "[encoded data removed]",
      "text/plain": [
       "<Figure size 1440x576 with 2 Axes>"
      ]
     },
     "metadata": {
      "needs_background": "light"
     },
     "output_type": "display_data"
    }
   ],
   "source": [
    "import matplotlib.pyplot as plt\n",
    "import seaborn as sns\n",
    "fig, axes = plt.subplots(1,2, figsize=(20,8))\n",
    "sns.countplot(y=df['RoleName'],ax=axes[0])\n",
    "df['RoleName'].value_counts().plot(kind='pie',autopct='%.2f%%')"
   ]
  },
  {
   "cell_type": "code",
   "execution_count": null,
   "metadata": {
    "colab": {
     "base_uri": "https://localhost:8080/"
    },
    "id": "uSKsOWefY4ok",
    "outputId": "449c9ed7-7e3a-412f-9b2c-9fceb5ff90e9"
   },
   "outputs": [
    {
     "data": {
      "text/plain": [
       "pandas.core.series.Series"
      ]
     },
     "execution_count": 262,
     "metadata": {},
     "output_type": "execute_result"
    }
   ],
   "source": [
    "type(df['Skills'])"
   ]
  },
  {
   "cell_type": "markdown",
   "metadata": {
    "id": "5bfYYpWmeRxa"
   },
   "source": [
    "**Model Building**"
   ]
  },
  {
   "cell_type": "code",
   "execution_count": null,
   "metadata": {
    "colab": {
     "base_uri": "https://localhost:8080/"
    },
    "id": "7n1MD2P4d_a4",
    "outputId": "078cf429-8634-4d1c-b85d-312fca392436"
   },
   "outputs": [
    {
     "data": {
      "text/plain": [
       "NAME        0\n",
       "Skills      0\n",
       "Role        0\n",
       "RoleName    0\n",
       "dtype: int64"
      ]
     },
     "execution_count": 263,
     "metadata": {},
     "output_type": "execute_result"
    }
   ],
   "source": [
    "df.isnull().sum()"
   ]
  },
  {
   "cell_type": "code",
   "execution_count": null,
   "metadata": {
    "colab": {
     "base_uri": "https://localhost:8080/"
    },
    "id": "rhHRybGNedRq",
    "outputId": "e04cf1cc-005b-4909-c1a1-b60c689b0052"
   },
   "outputs": [
    {
     "data": {
      "text/plain": [
       "array([ 1,  8,  0, 13, 14,  5,  7,  4,  3,  9,  6,  2, 12, 10, 11])"
      ]
     },
     "execution_count": 264,
     "metadata": {},
     "output_type": "execute_result"
    }
   ],
   "source": [
    "df['Role'].unique()"
   ]
  },
  {
   "cell_type": "code",
   "execution_count": null,
   "metadata": {
    "colab": {
     "base_uri": "https://localhost:8080/"
    },
    "id": "gtrrNSErekiD",
    "outputId": "471bb8e9-4726-4d22-a3e5-9799a6f72353"
   },
   "outputs": [
    {
     "data": {
      "text/plain": [
       "Workday               21\n",
       "Frontend Developer    21\n",
       "Peoplesoft            18\n",
       "DBM                   10\n",
       "Analyst                5\n",
       "Student                4\n",
       "Name: RoleName, dtype: int64"
      ]
     },
     "execution_count": 265,
     "metadata": {},
     "output_type": "execute_result"
    }
   ],
   "source": [
    "df['RoleName'].value_counts()"
   ]
  },
  {
   "cell_type": "code",
   "execution_count": null,
   "metadata": {
    "colab": {
     "base_uri": "https://localhost:8080/",
     "height": 206
    },
    "id": "OtZmcXWvfKqT",
    "outputId": "7666741f-d296-47b8-e660-49fd7416c296"
   },
   "outputs": [
    {
     "data": {
      "text/html": [
       "\n",
       "  <div id=\"df-834e9a7d-69d1-416e-829f-12b76b9c3605\">\n",
       "    <div class=\"colab-df-container\">\n",
       "      <div>\n",
       "<style scoped>\n",
       "    .dataframe tbody tr th:only-of-type {\n",
       "        vertical-align: middle;\n",
       "    }\n",
       "\n",
       "    .dataframe tbody tr th {\n",
       "        vertical-align: top;\n",
       "    }\n",
       "\n",
       "    .dataframe thead th {\n",
       "        text-align: right;\n",
       "    }\n",
       "</style>\n",
       "<table border=\"1\" class=\"dataframe\">\n",
       "  <thead>\n",
       "    <tr style=\"text-align: right;\">\n",
       "      <th></th>\n",
       "      <th>NAME</th>\n",
       "      <th>Skills</th>\n",
       "      <th>Role</th>\n",
       "      <th>RoleName</th>\n",
       "    </tr>\n",
       "  </thead>\n",
       "  <tbody>\n",
       "    <tr>\n",
       "      <th>0</th>\n",
       "      <td>PeopleSoft DBA_Vivekanand Sayana.docx</td>\n",
       "      <td>PeopleSoft Administration   Vivekanand Sayana ...</td>\n",
       "      <td>1</td>\n",
       "      <td>Peoplesoft</td>\n",
       "    </tr>\n",
       "    <tr>\n",
       "      <th>1</th>\n",
       "      <td>Peoplesoft FSCM_PriyabrataHota.docx</td>\n",
       "      <td>CAREER OBJECTIVE\\t\\t Pursuing Peoplesoft Exe...</td>\n",
       "      <td>8</td>\n",
       "      <td>Peoplesoft</td>\n",
       "    </tr>\n",
       "    <tr>\n",
       "      <th>2</th>\n",
       "      <td>RahulM_Hexaware.docx</td>\n",
       "      <td>Rahul  (Techno Functional Consultant)   Profes...</td>\n",
       "      <td>0</td>\n",
       "      <td>Workday</td>\n",
       "    </tr>\n",
       "    <tr>\n",
       "      <th>3</th>\n",
       "      <td>React Developer_Kamalakar Reddy.docx</td>\n",
       "      <td>KAMALAKAR REDDY. A  Linked In: https://www.lin...</td>\n",
       "      <td>13</td>\n",
       "      <td>Frontend Developer</td>\n",
       "    </tr>\n",
       "    <tr>\n",
       "      <th>4</th>\n",
       "      <td>Ramalakshmi K.docx</td>\n",
       "      <td>resume Ram...</td>\n",
       "      <td>14</td>\n",
       "      <td>Analyst</td>\n",
       "    </tr>\n",
       "  </tbody>\n",
       "</table>\n",
       "</div>\n",
       "      <button class=\"colab-df-convert\" onclick=\"convertToInteractive('df-834e9a7d-69d1-416e-829f-12b76b9c3605')\"\n",
       "              title=\"Convert this dataframe to an interactive table.\"\n",
       "              style=\"display:none;\">\n",
       "        \n",
       "  <svg xmlns=\"http://www.w3.org/2000/svg\" height=\"24px\"viewBox=\"0 0 24 24\"\n",
       "       width=\"24px\">\n",
       "    <path d=\"M0 0h24v24H0V0z\" fill=\"none\"/>\n",
       "    <path d=\"M18.56 5.44l.94 2.06.94-2.06 2.06-.94-2.06-.94-.94-2.06-.94 2.06-2.06.94zm-11 1L8.5 8.5l.94-2.06 2.06-.94-2.06-.94L8.5 2.5l-.94 2.06-2.06.94zm10 10l.94 2.06.94-2.06 2.06-.94-2.06-.94-.94-2.06-.94 2.06-2.06.94z\"/><path d=\"M17.41 7.96l-1.37-1.37c-.4-.4-.92-.59-1.43-.59-.52 0-1.04.2-1.43.59L10.3 9.45l-7.72 7.72c-.78.78-.78 2.05 0 2.83L4 21.41c.39.39.9.59 1.41.59.51 0 1.02-.2 1.41-.59l7.78-7.78 2.81-2.81c.8-.78.8-2.07 0-2.86zM5.41 20L4 18.59l7.72-7.72 1.47 1.35L5.41 20z\"/>\n",
       "  </svg>\n",
       "      </button>\n",
       "      \n",
       "  <style>\n",
       "    .colab-df-container {\n",
       "      display:flex;\n",
       "      flex-wrap:wrap;\n",
       "      gap: 12px;\n",
       "    }\n",
       "\n",
       "    .colab-df-convert {\n",
       "      background-color: #E8F0FE;\n",
       "      border: none;\n",
       "      border-radius: 50%;\n",
       "      cursor: pointer;\n",
       "      display: none;\n",
       "      fill: #1967D2;\n",
       "      height: 32px;\n",
       "      padding: 0 0 0 0;\n",
       "      width: 32px;\n",
       "    }\n",
       "\n",
       "    .colab-df-convert:hover {\n",
       "      background-color: #E2EBFA;\n",
       "      box-shadow: 0px 1px 2px rgba(60, 64, 67, 0.3), 0px 1px 3px 1px rgba(60, 64, 67, 0.15);\n",
       "      fill: #174EA6;\n",
       "    }\n",
       "\n",
       "    [theme=dark] .colab-df-convert {\n",
       "      background-color: #3B4455;\n",
       "      fill: #D2E3FC;\n",
       "    }\n",
       "\n",
       "    [theme=dark] .colab-df-convert:hover {\n",
       "      background-color: #434B5C;\n",
       "      box-shadow: 0px 1px 3px 1px rgba(0, 0, 0, 0.15);\n",
       "      filter: drop-shadow(0px 1px 2px rgba(0, 0, 0, 0.3));\n",
       "      fill: #FFFFFF;\n",
       "    }\n",
       "  </style>\n",
       "\n",
       "      <script>\n",
       "        const buttonEl =\n",
       "          document.querySelector('#df-834e9a7d-69d1-416e-829f-12b76b9c3605 button.colab-df-convert');\n",
       "        buttonEl.style.display =\n",
       "          google.colab.kernel.accessAllowed ? 'block' : 'none';\n",
       "\n",
       "        async function convertToInteractive(key) {\n",
       "          const element = document.querySelector('#df-834e9a7d-69d1-416e-829f-12b76b9c3605');\n",
       "          const dataTable =\n",
       "            await google.colab.kernel.invokeFunction('convertToInteractive',\n",
       "                                                     [key], {});\n",
       "          if (!dataTable) return;\n",
       "\n",
       "          const docLinkHtml = 'Like what you see? Visit the ' +\n",
       "            '<a target=\"_blank\" href=https://colab.research.google.com/notebooks/data_table.ipynb>data table notebook</a>'\n",
       "            + ' to learn more about interactive tables.';\n",
       "          element.innerHTML = '';\n",
       "          dataTable['output_type'] = 'display_data';\n",
       "          await google.colab.output.renderOutput(dataTable, element);\n",
       "          const docLink = document.createElement('div');\n",
       "          docLink.innerHTML = docLinkHtml;\n",
       "          element.appendChild(docLink);\n",
       "        }\n",
       "      </script>\n",
       "    </div>\n",
       "  </div>\n",
       "  "
      ],
      "text/plain": [
       "                                    NAME  \\\n",
       "0  PeopleSoft DBA_Vivekanand Sayana.docx   \n",
       "1    Peoplesoft FSCM_PriyabrataHota.docx   \n",
       "2                   RahulM_Hexaware.docx   \n",
       "3   React Developer_Kamalakar Reddy.docx   \n",
       "4                     Ramalakshmi K.docx   \n",
       "\n",
       "                                              Skills  Role            RoleName  \n",
       "0  PeopleSoft Administration   Vivekanand Sayana ...     1          Peoplesoft  \n",
       "1    CAREER OBJECTIVE\\t\\t Pursuing Peoplesoft Exe...     8          Peoplesoft  \n",
       "2  Rahul  (Techno Functional Consultant)   Profes...     0             Workday  \n",
       "3  KAMALAKAR REDDY. A  Linked In: https://www.lin...    13  Frontend Developer  \n",
       "4                                      resume Ram...    14             Analyst  "
      ]
     },
     "execution_count": 266,
     "metadata": {},
     "output_type": "execute_result"
    }
   ],
   "source": [
    "df.head()"
   ]
  },
  {
   "cell_type": "code",
   "execution_count": null,
   "metadata": {
    "colab": {
     "base_uri": "https://localhost:8080/"
    },
    "id": "JVnPQbQmeoI4",
    "outputId": "c1e09578-e1ec-42cc-f191-a0681e32500a"
   },
   "outputs": [
    {
     "data": {
      "text/plain": [
       "(79, 4)"
      ]
     },
     "execution_count": 267,
     "metadata": {},
     "output_type": "execute_result"
    }
   ],
   "source": [
    "df.shape"
   ]
  },
  {
   "cell_type": "code",
   "execution_count": null,
   "metadata": {
    "id": "1e5hrSEyfYqw"
   },
   "outputs": [],
   "source": [
    "# Splitting train and test \n",
    "\n",
    "from sklearn.model_selection import train_test_split\n",
    "x=df['Skills']\n",
    "y=df['RoleName']\n",
    "x_train,x_test,y_train,y_test=train_test_split(x,y,test_size=0.3,random_state=0)"
   ]
  },
  {
   "cell_type": "markdown",
   "metadata": {
    "id": "rM4twC98mafS"
   },
   "source": [
    "**SVM Model**"
   ]
  },
  {
   "cell_type": "code",
   "execution_count": null,
   "metadata": {
    "id": "Xqxim-8OfiPn"
   },
   "outputs": [],
   "source": [
    "from sklearn.pipeline import Pipeline\n",
    "from sklearn.feature_extraction.text import TfidfVectorizer\n",
    "from sklearn.svm import LinearSVC"
   ]
  },
  {
   "cell_type": "code",
   "execution_count": null,
   "metadata": {
    "id": "QS-oop90f6Jt"
   },
   "outputs": [],
   "source": [
    "text_clf_svm=Pipeline([('tfidf',TfidfVectorizer()),('clf',LinearSVC())])"
   ]
  },
  {
   "cell_type": "code",
   "execution_count": null,
   "metadata": {
    "colab": {
     "base_uri": "https://localhost:8080/"
    },
    "id": "OOAhr_nMhnyz",
    "outputId": "46b7c3ea-3dc5-4470-9456-ac8089a96e5b"
   },
   "outputs": [
    {
     "data": {
      "text/plain": [
       "pandas.core.series.Series"
      ]
     },
     "execution_count": 271,
     "metadata": {},
     "output_type": "execute_result"
    }
   ],
   "source": [
    "type(x_train)"
   ]
  },
  {
   "cell_type": "code",
   "execution_count": null,
   "metadata": {
    "colab": {
     "base_uri": "https://localhost:8080/"
    },
    "id": "U3G4BUbZhRyr",
    "outputId": "d9465256-5202-40cd-c2a8-27d0223894ef"
   },
   "outputs": [
    {
     "data": {
      "text/plain": [
       "pandas.core.series.Series"
      ]
     },
     "execution_count": 272,
     "metadata": {},
     "output_type": "execute_result"
    }
   ],
   "source": [
    "type(y_train)"
   ]
  },
  {
   "cell_type": "code",
   "execution_count": null,
   "metadata": {
    "colab": {
     "base_uri": "https://localhost:8080/"
    },
    "id": "mbIsJdOLkUCN",
    "outputId": "57abbebd-af0a-4ae1-9c42-1007c1421f60"
   },
   "outputs": [
    {
     "data": {
      "text/plain": [
       "Pipeline(steps=[('tfidf', TfidfVectorizer()), ('clf', LinearSVC())])"
      ]
     },
     "execution_count": 273,
     "metadata": {},
     "output_type": "execute_result"
    }
   ],
   "source": [
    "text_clf_svm.fit(x_train,y_train)"
   ]
  },
  {
   "cell_type": "code",
   "execution_count": null,
   "metadata": {
    "id": "BfXn9ts7kXDx"
   },
   "outputs": [],
   "source": [
    "pred_svm=text_clf_svm.predict(x_test)"
   ]
  },
  {
   "cell_type": "code",
   "execution_count": null,
   "metadata": {
    "id": "t4rjW5mBmGS6"
   },
   "outputs": [],
   "source": [
    "from sklearn.metrics import classification_report,confusion_matrix,accuracy_score"
   ]
  },
  {
   "cell_type": "code",
   "execution_count": null,
   "metadata": {
    "colab": {
     "base_uri": "https://localhost:8080/"
    },
    "id": "pZx5U1KkmIDY",
    "outputId": "1d847283-6812-41e5-d562-d58c1f86d75d"
   },
   "outputs": [
    {
     "name": "stdout",
     "output_type": "stream",
     "text": [
      "[[ 0  0  1  0  0]\n",
      " [ 0  1  0  0  0]\n",
      " [ 0  0 13  0  0]\n",
      " [ 0  0  0  2  0]\n",
      " [ 0  0  0  0  7]]\n"
     ]
    }
   ],
   "source": [
    "print(confusion_matrix(y_test,pred_svm))"
   ]
  },
  {
   "cell_type": "code",
   "execution_count": null,
   "metadata": {
    "colab": {
     "base_uri": "https://localhost:8080/"
    },
    "id": "NdVioEjRmJOb",
    "outputId": "5b16a58c-ca51-40ce-bba8-0e20fec2d116"
   },
   "outputs": [
    {
     "name": "stdout",
     "output_type": "stream",
     "text": [
      "                    precision    recall  f1-score   support\n",
      "\n",
      "           Analyst       0.00      0.00      0.00         1\n",
      "               DBM       1.00      1.00      1.00         1\n",
      "Frontend Developer       0.93      1.00      0.96        13\n",
      "        Peoplesoft       1.00      1.00      1.00         2\n",
      "           Workday       1.00      1.00      1.00         7\n",
      "\n",
      "          accuracy                           0.96        24\n",
      "         macro avg       0.79      0.80      0.79        24\n",
      "      weighted avg       0.92      0.96      0.94        24\n",
      "\n"
     ]
    },
    {
     "name": "stderr",
     "output_type": "stream",
     "text": [
      "/usr/local/lib/python3.7/dist-packages/sklearn/metrics/_classification.py:1318: UndefinedMetricWarning: Precision and F-score are ill-defined and being set to 0.0 in labels with no predicted samples. Use `zero_division` parameter to control this behavior.\n",
      "  _warn_prf(average, modifier, msg_start, len(result))\n",
      "/usr/local/lib/python3.7/dist-packages/sklearn/metrics/_classification.py:1318: UndefinedMetricWarning: Precision and F-score are ill-defined and being set to 0.0 in labels with no predicted samples. Use `zero_division` parameter to control this behavior.\n",
      "  _warn_prf(average, modifier, msg_start, len(result))\n",
      "/usr/local/lib/python3.7/dist-packages/sklearn/metrics/_classification.py:1318: UndefinedMetricWarning: Precision and F-score are ill-defined and being set to 0.0 in labels with no predicted samples. Use `zero_division` parameter to control this behavior.\n",
      "  _warn_prf(average, modifier, msg_start, len(result))\n"
     ]
    }
   ],
   "source": [
    "print(classification_report(y_test,pred_svm))"
   ]
  },
  {
   "cell_type": "code",
   "execution_count": null,
   "metadata": {
    "colab": {
     "base_uri": "https://localhost:8080/"
    },
    "id": "NlE2MdOpmKlX",
    "outputId": "b57ba900-5e33-435f-8bef-cdb1e72caa3d"
   },
   "outputs": [
    {
     "name": "stdout",
     "output_type": "stream",
     "text": [
      "0.9583333333333334\n"
     ]
    }
   ],
   "source": [
    "print(accuracy_score(y_test,pred_svm))"
   ]
  },
  {
   "cell_type": "markdown",
   "metadata": {
    "id": "j4_K3R38meR2"
   },
   "source": [
    "**Logistic Regression**"
   ]
  },
  {
   "cell_type": "code",
   "execution_count": null,
   "metadata": {
    "id": "7IS4YTWNmNXb"
   },
   "outputs": [],
   "source": [
    "from sklearn.pipeline import Pipeline\n",
    "from sklearn.feature_extraction.text import TfidfVectorizer\n",
    "from sklearn.linear_model import LogisticRegression"
   ]
  },
  {
   "cell_type": "code",
   "execution_count": null,
   "metadata": {
    "id": "_MVkCymxmtvG"
   },
   "outputs": [],
   "source": [
    "text_clf_logistic=Pipeline([('tfidf',TfidfVectorizer()),('clf',LogisticRegression())])"
   ]
  },
  {
   "cell_type": "code",
   "execution_count": null,
   "metadata": {
    "colab": {
     "base_uri": "https://localhost:8080/"
    },
    "id": "fmcQ27aVnPmf",
    "outputId": "b921aa8a-da9c-419b-c827-615e702d3f7a"
   },
   "outputs": [
    {
     "data": {
      "text/plain": [
       "Pipeline(steps=[('tfidf', TfidfVectorizer()), ('clf', LogisticRegression())])"
      ]
     },
     "execution_count": 281,
     "metadata": {},
     "output_type": "execute_result"
    }
   ],
   "source": [
    "text_clf_logistic.fit(x_train,y_train)"
   ]
  },
  {
   "cell_type": "code",
   "execution_count": null,
   "metadata": {
    "id": "qdVddVQDnTSq"
   },
   "outputs": [],
   "source": [
    "pred_logistic=text_clf_logistic.predict(x_test)"
   ]
  },
  {
   "cell_type": "code",
   "execution_count": null,
   "metadata": {
    "colab": {
     "base_uri": "https://localhost:8080/"
    },
    "id": "xbpt_dp2nXgB",
    "outputId": "31f8c595-e896-4f41-b0f0-851eb8e228be"
   },
   "outputs": [
    {
     "name": "stdout",
     "output_type": "stream",
     "text": [
      "[[ 0  0  0  1  0]\n",
      " [ 0  1  0  0  0]\n",
      " [ 0  0 11  2  0]\n",
      " [ 0  0  0  2  0]\n",
      " [ 0  0  0  0  7]]\n"
     ]
    }
   ],
   "source": [
    "print(confusion_matrix(y_test,pred_logistic))"
   ]
  },
  {
   "cell_type": "code",
   "execution_count": null,
   "metadata": {
    "colab": {
     "base_uri": "https://localhost:8080/"
    },
    "id": "vQLt-yAind_Q",
    "outputId": "69a1bdf3-865c-4898-c80c-949161ee8ed8"
   },
   "outputs": [
    {
     "name": "stdout",
     "output_type": "stream",
     "text": [
      "                    precision    recall  f1-score   support\n",
      "\n",
      "           Analyst       0.00      0.00      0.00         1\n",
      "               DBM       1.00      1.00      1.00         1\n",
      "Frontend Developer       1.00      0.85      0.92        13\n",
      "        Peoplesoft       0.40      1.00      0.57         2\n",
      "           Workday       1.00      1.00      1.00         7\n",
      "\n",
      "          accuracy                           0.88        24\n",
      "         macro avg       0.68      0.77      0.70        24\n",
      "      weighted avg       0.91      0.88      0.88        24\n",
      "\n"
     ]
    },
    {
     "name": "stderr",
     "output_type": "stream",
     "text": [
      "/usr/local/lib/python3.7/dist-packages/sklearn/metrics/_classification.py:1318: UndefinedMetricWarning: Precision and F-score are ill-defined and being set to 0.0 in labels with no predicted samples. Use `zero_division` parameter to control this behavior.\n",
      "  _warn_prf(average, modifier, msg_start, len(result))\n",
      "/usr/local/lib/python3.7/dist-packages/sklearn/metrics/_classification.py:1318: UndefinedMetricWarning: Precision and F-score are ill-defined and being set to 0.0 in labels with no predicted samples. Use `zero_division` parameter to control this behavior.\n",
      "  _warn_prf(average, modifier, msg_start, len(result))\n",
      "/usr/local/lib/python3.7/dist-packages/sklearn/metrics/_classification.py:1318: UndefinedMetricWarning: Precision and F-score are ill-defined and being set to 0.0 in labels with no predicted samples. Use `zero_division` parameter to control this behavior.\n",
      "  _warn_prf(average, modifier, msg_start, len(result))\n"
     ]
    }
   ],
   "source": [
    "print(classification_report(y_test,pred_logistic))"
   ]
  },
  {
   "cell_type": "code",
   "execution_count": null,
   "metadata": {
    "colab": {
     "base_uri": "https://localhost:8080/"
    },
    "id": "vYpAxTlvnkXO",
    "outputId": "f53b06bf-aca0-4ccf-f848-c3e260f91077"
   },
   "outputs": [
    {
     "name": "stdout",
     "output_type": "stream",
     "text": [
      "0.875\n"
     ]
    }
   ],
   "source": [
    "print(accuracy_score(y_test,pred_logistic))"
   ]
  },
  {
   "cell_type": "markdown",
   "metadata": {
    "id": "yeUSSVs1pGcP"
   },
   "source": [
    "**Decision Tree**"
   ]
  },
  {
   "cell_type": "code",
   "execution_count": null,
   "metadata": {
    "id": "IHzRS2E9pFyS"
   },
   "outputs": [],
   "source": [
    "from sklearn.pipeline import Pipeline\n",
    "from sklearn.feature_extraction.text import TfidfVectorizer\n",
    "\n",
    "from sklearn.model_selection import train_test_split\n",
    "from sklearn.tree import  DecisionTreeClassifier\n",
    "from sklearn import tree"
   ]
  },
  {
   "cell_type": "code",
   "execution_count": null,
   "metadata": {
    "id": "gZuE5YkfqbyN"
   },
   "outputs": [],
   "source": [
    "text_clf_decision_gini=Pipeline([('tfidf',TfidfVectorizer()),('clf',DecisionTreeClassifier(criterion = 'gini',min_samples_split=5))])"
   ]
  },
  {
   "cell_type": "code",
   "execution_count": null,
   "metadata": {
    "colab": {
     "base_uri": "https://localhost:8080/"
    },
    "id": "ko5We7bNnoPe",
    "outputId": "b98e2cd5-5f66-4a60-c04f-3b30f393d842"
   },
   "outputs": [
    {
     "data": {
      "text/plain": [
       "Pipeline(steps=[('tfidf', TfidfVectorizer()),\n",
       "                ('clf', DecisionTreeClassifier(min_samples_split=5))])"
      ]
     },
     "execution_count": 288,
     "metadata": {},
     "output_type": "execute_result"
    }
   ],
   "source": [
    "text_clf_decision_gini.fit(x_train,y_train)"
   ]
  },
  {
   "cell_type": "code",
   "execution_count": null,
   "metadata": {
    "id": "kbBVc88Xp1z9"
   },
   "outputs": [],
   "source": [
    "pred_decision_gini=text_clf_decision_gini.predict(x_test)"
   ]
  },
  {
   "cell_type": "code",
   "execution_count": null,
   "metadata": {
    "colab": {
     "base_uri": "https://localhost:8080/"
    },
    "id": "pg09chLlq25v",
    "outputId": "04a85542-c80f-45d5-c6e1-9a814b27654b"
   },
   "outputs": [
    {
     "name": "stdout",
     "output_type": "stream",
     "text": [
      "[[ 0  0  1  0  0  0]\n",
      " [ 0  1  0  0  0  0]\n",
      " [ 0  0 12  0  1  0]\n",
      " [ 0  0  0  2  0  0]\n",
      " [ 0  0  0  0  0  0]\n",
      " [ 0  0  0  0  0  7]]\n"
     ]
    }
   ],
   "source": [
    "print(confusion_matrix(y_test,pred_decision_gini))"
   ]
  },
  {
   "cell_type": "code",
   "execution_count": null,
   "metadata": {
    "colab": {
     "base_uri": "https://localhost:8080/"
    },
    "id": "SV7OHJg7q61o",
    "outputId": "92e2d6ef-e8c4-4712-dfa2-f334cdecb5ff"
   },
   "outputs": [
    {
     "name": "stdout",
     "output_type": "stream",
     "text": [
      "                    precision    recall  f1-score   support\n",
      "\n",
      "           Analyst       0.00      0.00      0.00         1\n",
      "               DBM       1.00      1.00      1.00         1\n",
      "Frontend Developer       0.92      0.92      0.92        13\n",
      "        Peoplesoft       1.00      1.00      1.00         2\n",
      "           Student       0.00      0.00      0.00         0\n",
      "           Workday       1.00      1.00      1.00         7\n",
      "\n",
      "          accuracy                           0.92        24\n",
      "         macro avg       0.65      0.65      0.65        24\n",
      "      weighted avg       0.92      0.92      0.92        24\n",
      "\n"
     ]
    },
    {
     "name": "stderr",
     "output_type": "stream",
     "text": [
      "/usr/local/lib/python3.7/dist-packages/sklearn/metrics/_classification.py:1318: UndefinedMetricWarning: Precision and F-score are ill-defined and being set to 0.0 in labels with no predicted samples. Use `zero_division` parameter to control this behavior.\n",
      "  _warn_prf(average, modifier, msg_start, len(result))\n",
      "/usr/local/lib/python3.7/dist-packages/sklearn/metrics/_classification.py:1318: UndefinedMetricWarning: Recall and F-score are ill-defined and being set to 0.0 in labels with no true samples. Use `zero_division` parameter to control this behavior.\n",
      "  _warn_prf(average, modifier, msg_start, len(result))\n",
      "/usr/local/lib/python3.7/dist-packages/sklearn/metrics/_classification.py:1318: UndefinedMetricWarning: Precision and F-score are ill-defined and being set to 0.0 in labels with no predicted samples. Use `zero_division` parameter to control this behavior.\n",
      "  _warn_prf(average, modifier, msg_start, len(result))\n",
      "/usr/local/lib/python3.7/dist-packages/sklearn/metrics/_classification.py:1318: UndefinedMetricWarning: Recall and F-score are ill-defined and being set to 0.0 in labels with no true samples. Use `zero_division` parameter to control this behavior.\n",
      "  _warn_prf(average, modifier, msg_start, len(result))\n",
      "/usr/local/lib/python3.7/dist-packages/sklearn/metrics/_classification.py:1318: UndefinedMetricWarning: Precision and F-score are ill-defined and being set to 0.0 in labels with no predicted samples. Use `zero_division` parameter to control this behavior.\n",
      "  _warn_prf(average, modifier, msg_start, len(result))\n",
      "/usr/local/lib/python3.7/dist-packages/sklearn/metrics/_classification.py:1318: UndefinedMetricWarning: Recall and F-score are ill-defined and being set to 0.0 in labels with no true samples. Use `zero_division` parameter to control this behavior.\n",
      "  _warn_prf(average, modifier, msg_start, len(result))\n"
     ]
    }
   ],
   "source": [
    "print(classification_report(y_test,pred_decision_gini))"
   ]
  },
  {
   "cell_type": "code",
   "execution_count": null,
   "metadata": {
    "colab": {
     "base_uri": "https://localhost:8080/"
    },
    "id": "UjNHoRTfrAkn",
    "outputId": "98936ba3-edfa-42e4-c2f5-46e3462fb102"
   },
   "outputs": [
    {
     "name": "stdout",
     "output_type": "stream",
     "text": [
      "0.9166666666666666\n"
     ]
    }
   ],
   "source": [
    "print(accuracy_score(y_test,pred_decision_gini))"
   ]
  },
  {
   "cell_type": "code",
   "execution_count": null,
   "metadata": {
    "id": "xOXhSVVJrS2E"
   },
   "outputs": [],
   "source": [
    "# Entropy"
   ]
  },
  {
   "cell_type": "code",
   "execution_count": null,
   "metadata": {
    "id": "54YYD6C1rEhN"
   },
   "outputs": [],
   "source": [
    "text_clf_decision_entropy=Pipeline([('tfidf',TfidfVectorizer()),('clf',DecisionTreeClassifier(criterion = 'entropy',min_samples_split=5))])"
   ]
  },
  {
   "cell_type": "code",
   "execution_count": null,
   "metadata": {
    "colab": {
     "base_uri": "https://localhost:8080/"
    },
    "id": "fwlXYILirZrE",
    "outputId": "d1a6e5b7-8c50-472f-afe5-8cd8afe58d02"
   },
   "outputs": [
    {
     "data": {
      "text/plain": [
       "Pipeline(steps=[('tfidf', TfidfVectorizer()),\n",
       "                ('clf',\n",
       "                 DecisionTreeClassifier(criterion='entropy',\n",
       "                                        min_samples_split=5))])"
      ]
     },
     "execution_count": 295,
     "metadata": {},
     "output_type": "execute_result"
    }
   ],
   "source": [
    "text_clf_decision_entropy.fit(x_train,y_train)"
   ]
  },
  {
   "cell_type": "code",
   "execution_count": null,
   "metadata": {
    "id": "gBxUI3cardAl"
   },
   "outputs": [],
   "source": [
    "pred_decision_entropy=text_clf_decision_entropy.predict(x_test)"
   ]
  },
  {
   "cell_type": "code",
   "execution_count": null,
   "metadata": {
    "colab": {
     "base_uri": "https://localhost:8080/"
    },
    "id": "wr08hgHkrhpr",
    "outputId": "84f8880d-3bc1-4db6-f871-520667a802b6"
   },
   "outputs": [
    {
     "name": "stdout",
     "output_type": "stream",
     "text": [
      "[[ 0  0  1  0  0  0]\n",
      " [ 0  1  0  0  0  0]\n",
      " [ 0  0 12  0  1  0]\n",
      " [ 0  0  0  2  0  0]\n",
      " [ 0  0  0  0  0  0]\n",
      " [ 0  0  0  0  0  7]]\n"
     ]
    }
   ],
   "source": [
    "print(confusion_matrix(y_test,pred_decision_entropy))"
   ]
  },
  {
   "cell_type": "code",
   "execution_count": null,
   "metadata": {
    "colab": {
     "base_uri": "https://localhost:8080/"
    },
    "id": "ybzvjQonrzZn",
    "outputId": "f020f209-1377-41de-daaf-ba54928938e4"
   },
   "outputs": [
    {
     "name": "stdout",
     "output_type": "stream",
     "text": [
      "                    precision    recall  f1-score   support\n",
      "\n",
      "           Analyst       0.00      0.00      0.00         1\n",
      "               DBM       1.00      1.00      1.00         1\n",
      "Frontend Developer       0.92      0.92      0.92        13\n",
      "        Peoplesoft       1.00      1.00      1.00         2\n",
      "           Student       0.00      0.00      0.00         0\n",
      "           Workday       1.00      1.00      1.00         7\n",
      "\n",
      "          accuracy                           0.92        24\n",
      "         macro avg       0.65      0.65      0.65        24\n",
      "      weighted avg       0.92      0.92      0.92        24\n",
      "\n"
     ]
    },
    {
     "name": "stderr",
     "output_type": "stream",
     "text": [
      "/usr/local/lib/python3.7/dist-packages/sklearn/metrics/_classification.py:1318: UndefinedMetricWarning: Precision and F-score are ill-defined and being set to 0.0 in labels with no predicted samples. Use `zero_division` parameter to control this behavior.\n",
      "  _warn_prf(average, modifier, msg_start, len(result))\n",
      "/usr/local/lib/python3.7/dist-packages/sklearn/metrics/_classification.py:1318: UndefinedMetricWarning: Recall and F-score are ill-defined and being set to 0.0 in labels with no true samples. Use `zero_division` parameter to control this behavior.\n",
      "  _warn_prf(average, modifier, msg_start, len(result))\n",
      "/usr/local/lib/python3.7/dist-packages/sklearn/metrics/_classification.py:1318: UndefinedMetricWarning: Precision and F-score are ill-defined and being set to 0.0 in labels with no predicted samples. Use `zero_division` parameter to control this behavior.\n",
      "  _warn_prf(average, modifier, msg_start, len(result))\n",
      "/usr/local/lib/python3.7/dist-packages/sklearn/metrics/_classification.py:1318: UndefinedMetricWarning: Recall and F-score are ill-defined and being set to 0.0 in labels with no true samples. Use `zero_division` parameter to control this behavior.\n",
      "  _warn_prf(average, modifier, msg_start, len(result))\n",
      "/usr/local/lib/python3.7/dist-packages/sklearn/metrics/_classification.py:1318: UndefinedMetricWarning: Precision and F-score are ill-defined and being set to 0.0 in labels with no predicted samples. Use `zero_division` parameter to control this behavior.\n",
      "  _warn_prf(average, modifier, msg_start, len(result))\n",
      "/usr/local/lib/python3.7/dist-packages/sklearn/metrics/_classification.py:1318: UndefinedMetricWarning: Recall and F-score are ill-defined and being set to 0.0 in labels with no true samples. Use `zero_division` parameter to control this behavior.\n",
      "  _warn_prf(average, modifier, msg_start, len(result))\n"
     ]
    }
   ],
   "source": [
    "print(classification_report(y_test,pred_decision_entropy))"
   ]
  },
  {
   "cell_type": "code",
   "execution_count": null,
   "metadata": {
    "colab": {
     "base_uri": "https://localhost:8080/"
    },
    "id": "HzRY0e_Hr1cP",
    "outputId": "abf80c99-1ef7-4b7a-9bcd-ac8f167db1a6"
   },
   "outputs": [
    {
     "name": "stdout",
     "output_type": "stream",
     "text": [
      "0.9166666666666666\n"
     ]
    }
   ],
   "source": [
    "print(accuracy_score(y_test,pred_decision_entropy))"
   ]
  },
  {
   "cell_type": "markdown",
   "metadata": {
    "id": "N84VEQosr6Sh"
   },
   "source": [
    "**Random Forest**"
   ]
  },
  {
   "cell_type": "code",
   "execution_count": null,
   "metadata": {
    "id": "sTPd8mjkr324"
   },
   "outputs": [],
   "source": [
    "from sklearn.pipeline import Pipeline\n",
    "from sklearn.feature_extraction.text import TfidfVectorizer\n",
    "\n",
    "from sklearn.model_selection import KFold\n",
    "from sklearn.model_selection import cross_val_score\n",
    "from sklearn.ensemble import RandomForestClassifier"
   ]
  },
  {
   "cell_type": "code",
   "execution_count": null,
   "metadata": {
    "id": "PhtQU5t3sE5X"
   },
   "outputs": [],
   "source": [
    "text_clf_random=Pipeline([('tfidf',TfidfVectorizer()),('clf',RandomForestClassifier(n_estimators=10))])"
   ]
  },
  {
   "cell_type": "code",
   "execution_count": null,
   "metadata": {
    "colab": {
     "base_uri": "https://localhost:8080/"
    },
    "id": "UgqiIiacsaeg",
    "outputId": "f1e720aa-6ed9-4d47-f6ef-bdf79891ea3e"
   },
   "outputs": [
    {
     "data": {
      "text/plain": [
       "Pipeline(steps=[('tfidf', TfidfVectorizer()),\n",
       "                ('clf', RandomForestClassifier(n_estimators=10))])"
      ]
     },
     "execution_count": 302,
     "metadata": {},
     "output_type": "execute_result"
    }
   ],
   "source": [
    "text_clf_random.fit(x_train,y_train)"
   ]
  },
  {
   "cell_type": "code",
   "execution_count": null,
   "metadata": {
    "id": "xl7DbmWisfFR"
   },
   "outputs": [],
   "source": [
    "pred_random=text_clf_random.predict(x_test)"
   ]
  },
  {
   "cell_type": "code",
   "execution_count": null,
   "metadata": {
    "colab": {
     "base_uri": "https://localhost:8080/"
    },
    "id": "wJYXU5NOsmSy",
    "outputId": "d4adf120-db0a-40f2-eb9e-121f59bc5934"
   },
   "outputs": [
    {
     "name": "stdout",
     "output_type": "stream",
     "text": [
      "[[ 0  0  0  0  1  0]\n",
      " [ 0  1  0  0  0  0]\n",
      " [ 0  0 12  0  1  0]\n",
      " [ 0  0  0  2  0  0]\n",
      " [ 0  0  0  0  0  0]\n",
      " [ 0  0  0  0  0  7]]\n"
     ]
    }
   ],
   "source": [
    "print(confusion_matrix(y_test,pred_random))"
   ]
  },
  {
   "cell_type": "code",
   "execution_count": null,
   "metadata": {
    "colab": {
     "base_uri": "https://localhost:8080/"
    },
    "id": "8IyfJtxJsqYG",
    "outputId": "a2dc9226-5ddd-4068-fd3d-16d54accff40"
   },
   "outputs": [
    {
     "name": "stdout",
     "output_type": "stream",
     "text": [
      "                    precision    recall  f1-score   support\n",
      "\n",
      "           Analyst       0.00      0.00      0.00         1\n",
      "               DBM       1.00      1.00      1.00         1\n",
      "Frontend Developer       1.00      0.92      0.96        13\n",
      "        Peoplesoft       1.00      1.00      1.00         2\n",
      "           Student       0.00      0.00      0.00         0\n",
      "           Workday       1.00      1.00      1.00         7\n",
      "\n",
      "          accuracy                           0.92        24\n",
      "         macro avg       0.67      0.65      0.66        24\n",
      "      weighted avg       0.96      0.92      0.94        24\n",
      "\n"
     ]
    },
    {
     "name": "stderr",
     "output_type": "stream",
     "text": [
      "/usr/local/lib/python3.7/dist-packages/sklearn/metrics/_classification.py:1318: UndefinedMetricWarning: Precision and F-score are ill-defined and being set to 0.0 in labels with no predicted samples. Use `zero_division` parameter to control this behavior.\n",
      "  _warn_prf(average, modifier, msg_start, len(result))\n",
      "/usr/local/lib/python3.7/dist-packages/sklearn/metrics/_classification.py:1318: UndefinedMetricWarning: Recall and F-score are ill-defined and being set to 0.0 in labels with no true samples. Use `zero_division` parameter to control this behavior.\n",
      "  _warn_prf(average, modifier, msg_start, len(result))\n",
      "/usr/local/lib/python3.7/dist-packages/sklearn/metrics/_classification.py:1318: UndefinedMetricWarning: Precision and F-score are ill-defined and being set to 0.0 in labels with no predicted samples. Use `zero_division` parameter to control this behavior.\n",
      "  _warn_prf(average, modifier, msg_start, len(result))\n",
      "/usr/local/lib/python3.7/dist-packages/sklearn/metrics/_classification.py:1318: UndefinedMetricWarning: Recall and F-score are ill-defined and being set to 0.0 in labels with no true samples. Use `zero_division` parameter to control this behavior.\n",
      "  _warn_prf(average, modifier, msg_start, len(result))\n",
      "/usr/local/lib/python3.7/dist-packages/sklearn/metrics/_classification.py:1318: UndefinedMetricWarning: Precision and F-score are ill-defined and being set to 0.0 in labels with no predicted samples. Use `zero_division` parameter to control this behavior.\n",
      "  _warn_prf(average, modifier, msg_start, len(result))\n",
      "/usr/local/lib/python3.7/dist-packages/sklearn/metrics/_classification.py:1318: UndefinedMetricWarning: Recall and F-score are ill-defined and being set to 0.0 in labels with no true samples. Use `zero_division` parameter to control this behavior.\n",
      "  _warn_prf(average, modifier, msg_start, len(result))\n"
     ]
    }
   ],
   "source": [
    "print(classification_report(y_test,pred_random))"
   ]
  },
  {
   "cell_type": "code",
   "execution_count": null,
   "metadata": {
    "colab": {
     "base_uri": "https://localhost:8080/"
    },
    "id": "pf53DVXysvOv",
    "outputId": "fa212d9e-0103-4540-a12f-6f9b182d65a6"
   },
   "outputs": [
    {
     "name": "stdout",
     "output_type": "stream",
     "text": [
      "0.9166666666666666\n"
     ]
    }
   ],
   "source": [
    "print(accuracy_score(y_test,pred_random))"
   ]
  },
  {
   "cell_type": "markdown",
   "metadata": {
    "id": "zJXmI3ShzLoa"
   },
   "source": [
    "**Accuracy of models**"
   ]
  },
  {
   "cell_type": "code",
   "execution_count": null,
   "metadata": {
    "colab": {
     "base_uri": "https://localhost:8080/"
    },
    "id": "N9qmzWkCvlYj",
    "outputId": "680b61db-68a1-4419-eaa1-1549b69af5b4"
   },
   "outputs": [
    {
     "name": "stdout",
     "output_type": "stream",
     "text": [
      "SVM - 95.83333333333334\n"
     ]
    }
   ],
   "source": [
    "print(\"SVM\",end=' - ')\n",
    "print((accuracy_score(y_test,pred_svm))*100)"
   ]
  },
  {
   "cell_type": "code",
   "execution_count": null,
   "metadata": {
    "colab": {
     "base_uri": "https://localhost:8080/"
    },
    "id": "hqcVPkFz4yZE",
    "outputId": "85bc5b04-3e8f-4671-f799-43377aebc785"
   },
   "outputs": [
    {
     "name": "stdout",
     "output_type": "stream",
     "text": [
      "Logistic Regession - 87.5\n"
     ]
    }
   ],
   "source": [
    "print(\"Logistic Regession\",end=' - ')\n",
    "print((accuracy_score(y_test,pred_logistic))*100)"
   ]
  },
  {
   "cell_type": "code",
   "execution_count": null,
   "metadata": {
    "colab": {
     "base_uri": "https://localhost:8080/"
    },
    "id": "tYeMElsM5GiQ",
    "outputId": "b7619c68-6429-4c84-f7e0-2de0498ef8c3"
   },
   "outputs": [
    {
     "name": "stdout",
     "output_type": "stream",
     "text": [
      "Decision Tree(Gini method) - 91.66666666666666\n"
     ]
    }
   ],
   "source": [
    "print(\"Decision Tree(Gini method)\",end=' - ')\n",
    "print((accuracy_score(y_test,pred_decision_gini))*100)"
   ]
  },
  {
   "cell_type": "code",
   "execution_count": null,
   "metadata": {
    "colab": {
     "base_uri": "https://localhost:8080/"
    },
    "id": "vNS2lmbI5O8-",
    "outputId": "6ecf796c-b350-4acc-a2ba-d20aacd4eaa1"
   },
   "outputs": [
    {
     "name": "stdout",
     "output_type": "stream",
     "text": [
      "Decision Tree (Entropy method) - 91.66666666666666\n"
     ]
    }
   ],
   "source": [
    "print(\"Decision Tree (Entropy method)\",end=' - ')\n",
    "print((accuracy_score(y_test,pred_decision_entropy))*100)"
   ]
  },
  {
   "cell_type": "code",
   "execution_count": null,
   "metadata": {
    "colab": {
     "base_uri": "https://localhost:8080/"
    },
    "id": "soiREvEd5Rxp",
    "outputId": "c95c7f32-ee62-44ba-cff4-2fd831c7c96b"
   },
   "outputs": [
    {
     "name": "stdout",
     "output_type": "stream",
     "text": [
      "Random Tree - 91.66666666666666\n"
     ]
    }
   ],
   "source": [
    "print(\"Random Tree\",end=' - ')\n",
    "print((accuracy_score(y_test,pred_random))*100)"
   ]
  },
  {
   "cell_type": "markdown",
   "metadata": {
    "id": "7nckZo685hZx"
   },
   "source": [
    "**By considering above models, SVM gives more accuracy..**"
   ]
  }
 ],
 "metadata": {
  "colab": {
   "collapsed_sections": [],
   "provenance": []
  },
  "kernelspec": {
   "display_name": "Python 3 (ipykernel)",
   "language": "python",
   "name": "python3"
  },
  "language_info": {
   "codemirror_mode": {
    "name": "ipython",
    "version": 3
   },
   "file_extension": ".py",
   "mimetype": "text/x-python",
   "name": "python",
   "nbconvert_exporter": "python",
   "pygments_lexer": "ipython3",
   "version": "3.9.12"
  }
 },
 "nbformat": 4,
 "nbformat_minor": 1
}
